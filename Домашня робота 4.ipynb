{
 "cells": [
  {
   "cell_type": "markdown",
   "metadata": {},
   "source": [
    "# Домашня робота №4"
   ]
  },
  {
   "cell_type": "markdown",
   "metadata": {},
   "source": [
    "# Дискретні розподіли"
   ]
  },
  {
   "cell_type": "code",
   "execution_count": 40,
   "metadata": {
    "collapsed": true
   },
   "outputs": [],
   "source": [
    "import numpy as np\n",
    "import matplotlib.pyplot as plt"
   ]
  },
  {
   "cell_type": "markdown",
   "metadata": {},
   "source": [
    "## 1 Від'ємний біноміальний розподіл"
   ]
  },
  {
   "cell_type": "markdown",
   "metadata": {},
   "source": [
    "Більш детальна інформація в [документації](https://docs.scipy.org/doc/scipy/reference/generated/scipy.stats.nbinom.html)."
   ]
  },
  {
   "cell_type": "code",
   "execution_count": 41,
   "metadata": {
    "collapsed": true
   },
   "outputs": [],
   "source": [
    "from scipy.stats import nbinom"
   ]
  },
  {
   "cell_type": "code",
   "execution_count": 42,
   "metadata": {
    "collapsed": true
   },
   "outputs": [],
   "source": [
    "n = 5\n",
    "p = 0.4"
   ]
  },
  {
   "cell_type": "markdown",
   "metadata": {},
   "source": [
    "### 1.1 Щільність"
   ]
  },
  {
   "cell_type": "code",
   "execution_count": 43,
   "metadata": {
    "collapsed": true
   },
   "outputs": [],
   "source": [
    "x = np.arange(-0.5, n*5+1, 0.5)"
   ]
  },
  {
   "cell_type": "markdown",
   "metadata": {},
   "source": [
    "Виведіть значення функції щільності від'ємного біноміального розподілу з параметрами $n, p$ в точках вектора $x$."
   ]
  },
  {
   "cell_type": "code",
   "execution_count": 44,
   "metadata": {
    "collapsed": false
   },
   "outputs": [
    {
     "name": "stdout",
     "output_type": "stream",
     "text": [
      "[0.         0.01024    0.         0.03072    0.         0.055296\n 0.         0.0774144  0.         0.09289728 0.         0.10032906\n 0.         0.10032906 0.         0.09459597 0.         0.08513638\n 0.         0.07378486 0.         0.06197928 0.         0.05071032\n 0.         0.04056826 0.         0.03183048 0.         0.02455494\n 0.         0.01866175 0.         0.01399632 0.         0.01037374\n 0.         0.00760741 0.         0.00552538 0.         0.00397827\n 0.         0.00284162 0.         0.00201497 0.         0.00141924\n 0.         0.00099347 0.         0.00069145 0.        ]\n"
     ]
    }
   ],
   "source": [
    "from scipy.stats import nbinom\n",
    "import numpy as np\n",
    "n = 5\n",
    "p = 0.4\n",
    "x = np.arange(-0.5, n*5+1, 0.5)\n",
    "y = nbinom.pmf(x, n, p)\n",
    "print(y)\n"
   ]
  },
  {
   "cell_type": "markdown",
   "metadata": {},
   "source": [
    "Зобразіть графічно значення функції щільності від'ємного біноміального розподілу з параметрами $n, p$ в точках вектора $x$."
   ]
  },
  {
   "cell_type": "code",
   "execution_count": 45,
   "metadata": {
    "collapsed": false,
    "scrolled": true
   },
   "outputs": [],
   "source": [
    "plt.stem(x, y)\n",
    "plt.show()\n"
   ]
  },
  {
   "cell_type": "markdown",
   "metadata": {},
   "source": [
    "Зобразіть графічно значення функції щільності від'ємного біноміального розподілу з параметрами $n, p$ в точках вектора $x1$."
   ]
  },
  {
   "cell_type": "code",
   "execution_count": 46,
   "metadata": {
    "collapsed": true
   },
   "outputs": [],
   "source": [
    "x1 = np.arange(0, n*5+1)"
   ]
  },
  {
   "cell_type": "code",
   "execution_count": 47,
   "metadata": {
    "collapsed": false
   },
   "outputs": [],
   "source": [
    "plt.stem(x1, nbinom.pmf(x1, n, p))\n",
    "plt.show()\n"
   ]
  },
  {
   "cell_type": "markdown",
   "metadata": {},
   "source": [
    "### 1.2 Функція розподілу"
   ]
  },
  {
   "cell_type": "markdown",
   "metadata": {},
   "source": [
    "Виведіть значення функції розподілу від'ємного біноміального розподілу з параметрами $n, p$ в точках вектора $x$."
   ]
  },
  {
   "cell_type": "code",
   "execution_count": 48,
   "metadata": {
    "collapsed": false
   },
   "outputs": [
    {
     "name": "stdout",
     "output_type": "stream",
     "text": [
      "[0.         0.01024    0.01024    0.04096    0.04096    0.096256\n 0.096256   0.1736704  0.1736704  0.26656768 0.26656768 0.36689674\n 0.36689674 0.4672258  0.4672258  0.56182178 0.56182178 0.64695815\n 0.64695815 0.72074301 0.72074301 0.78272229 0.78272229 0.83343262\n 0.83343262 0.87400087 0.87400087 0.90583135 0.90583135 0.93038629\n 0.93038629 0.94904805 0.94904805 0.96304436 0.96304436 0.9734181\n 0.9734181  0.98102551 0.98102551 0.98655089 0.98655089 0.99052917\n 0.99052917 0.99337079 0.99337079 0.99538576 0.99538576 0.996805\n 0.996805   0.99779847 0.99779847 0.99848993 0.99848993]\n"
     ]
    }
   ],
   "source": [
    "y = nbinom.cdf(x, n, p)\n",
    "print(y)\n"
   ]
  },
  {
   "cell_type": "markdown",
   "metadata": {},
   "source": [
    "Зобразіть графічно значення функції розподілу від'ємного біноміального розподілу з параметрами $n, p$ в точках вектора $x$."
   ]
  },
  {
   "cell_type": "code",
   "execution_count": 49,
   "metadata": {
    "collapsed": false
   },
   "outputs": [],
   "source": [
    "plt.stem(x, y)\n",
    "plt.show()"
   ]
  },
  {
   "cell_type": "markdown",
   "metadata": {},
   "source": [
    "### 1.3 Випадкові величини"
   ]
  },
  {
   "cell_type": "markdown",
   "metadata": {},
   "source": [
    "Згенеруйте $100$ випадкових величин з від'ємного біноміального розподілу з параметрами $n, p$."
   ]
  },
  {
   "cell_type": "code",
   "execution_count": 50,
   "metadata": {
    "collapsed": false
   },
   "outputs": [
    {
     "name": "stdout",
     "output_type": "stream",
     "text": [
      "[14  2  9  6  4  9  8  1  2  8 10  3  5  6 25 11  5 16  8  4  7  5  8  8\n 12  4 11  9  9  6 19  3  9 14 14  7  6  1 11 18  0  6 12  3  9  6  5 17\n  7 15  5  4  3 13  3  3  6  6  7  2 11  2  5  3 11  2 10  4  7  2  6 15\n  2  9  1  4  3  6  6 16 10 12 12  5 13  0 17 12  3  4  4 10  3  2  1  4\n  6 11  4  5]\n"
     ]
    }
   ],
   "source": [
    "r_set = nbinom.rvs(n, p, size=100)\n",
    "print(r_set)\n"
   ]
  },
  {
   "cell_type": "markdown",
   "metadata": {},
   "source": [
    "Виведіть кількість кожного елемента в отриманому випадковому векторі."
   ]
  },
  {
   "cell_type": "code",
   "execution_count": 51,
   "metadata": {
    "collapsed": false
   },
   "outputs": [
    {
     "name": "stdout",
     "output_type": "stream",
     "text": [
      "Counter({6: 12, 4: 10, 3: 10, 2: 8, 5: 8, 9: 7, 11: 6, 8: 5, 7: 5, 12: 5, 1: 4, 10: 4, 14: 3, 16: 2, 0: 2, 17: 2, 15: 2, 13: 2, 25: 1, 19: 1, 18: 1})\n"
     ]
    }
   ],
   "source": [
    "from collections import Counter\n",
    "print(Counter(r_set))"
   ]
  },
  {
   "cell_type": "markdown",
   "metadata": {},
   "source": [
    "Зобразіть графічно кількість кожного елемента в отриманому випадковому векторі."
   ]
  },
  {
   "cell_type": "code",
   "execution_count": 52,
   "metadata": {
    "collapsed": false,
    "scrolled": true
   },
   "outputs": [],
   "source": [
    "plt.hist(r_set)\n",
    "plt.show()\n"
   ]
  },
  {
   "cell_type": "markdown",
   "metadata": {},
   "source": [
    "## 2 Гіпергеометричний розподіл"
   ]
  },
  {
   "cell_type": "markdown",
   "metadata": {},
   "source": [
    "Більш детальна інформація в [документації](https://docs.scipy.org/doc/scipy/reference/generated/scipy.stats.hypergeom.html)."
   ]
  },
  {
   "cell_type": "code",
   "execution_count": 53,
   "metadata": {
    "collapsed": true
   },
   "outputs": [],
   "source": [
    "from scipy.stats import hypergeom"
   ]
  },
  {
   "cell_type": "code",
   "execution_count": 54,
   "metadata": {
    "collapsed": true
   },
   "outputs": [],
   "source": [
    "M = 20\n",
    "n = 7\n",
    "N = 12"
   ]
  },
  {
   "cell_type": "markdown",
   "metadata": {},
   "source": [
    "### 2.1 Щільність"
   ]
  },
  {
   "cell_type": "code",
   "execution_count": 55,
   "metadata": {
    "collapsed": true
   },
   "outputs": [],
   "source": [
    "x = np.arange(max(0, N-M+n)-0.5, min(n, N)+1, 0.5)"
   ]
  },
  {
   "cell_type": "markdown",
   "metadata": {},
   "source": [
    "Виведіть значення функції щільності гіпергеометричного розподілу з параметрами $M, n, N$ в точках вектора $x$."
   ]
  },
  {
   "cell_type": "code",
   "execution_count": 56,
   "metadata": {
    "collapsed": false
   },
   "outputs": [
    {
     "name": "stdout",
     "output_type": "stream",
     "text": [
      "[0.00000000e+00 1.03199174e-04 0.00000000e+00 4.33436533e-03\n 0.00000000e+00 4.76780186e-02 0.00000000e+00 1.98658411e-01\n 0.00000000e+00 3.57585139e-01 0.00000000e+00 2.86068111e-01\n 0.00000000e+00 9.53560372e-02 0.00000000e+00 1.02167183e-02\n 0.00000000e+00]\n"
     ]
    }
   ],
   "source": [
    "y = hypergeom.pmf(x, M, n, N)\n",
    "print(y)\n"
   ]
  },
  {
   "cell_type": "markdown",
   "metadata": {},
   "source": [
    "Зобразіть графічно значення функції щільності гіпергеометричного розподілу з параметрами $M, n, N$ в точках вектора $x$."
   ]
  },
  {
   "cell_type": "code",
   "execution_count": 57,
   "metadata": {
    "collapsed": false
   },
   "outputs": [],
   "source": [
    "plt.stem(x, y)\n",
    "plt.show()\n"
   ]
  },
  {
   "cell_type": "markdown",
   "metadata": {},
   "source": [
    "Зобразіть графічно значення функції щільності гіпергеометричного розподілу з параметрами $M, n, N$ в точках вектора $x1$."
   ]
  },
  {
   "cell_type": "code",
   "execution_count": 58,
   "metadata": {
    "collapsed": true
   },
   "outputs": [],
   "source": [
    "x1 = np.arange(max(0, N-M+n), min(n, N)+1)"
   ]
  },
  {
   "cell_type": "code",
   "execution_count": 59,
   "metadata": {
    "collapsed": false
   },
   "outputs": [],
   "source": [
    "plt.stem(x1, hypergeom.pmf(x1, M=M, n=n, N=N))\n",
    "plt.show()"
   ]
  },
  {
   "cell_type": "markdown",
   "metadata": {},
   "source": [
    "### 2.2 Функція розподілу"
   ]
  },
  {
   "cell_type": "markdown",
   "metadata": {},
   "source": [
    "Виведіть значення функції розподілу гіпергеометричного розподілу з параметрами $M, n, N$ в точках вектора $x$."
   ]
  },
  {
   "cell_type": "code",
   "execution_count": 60,
   "metadata": {
    "collapsed": false
   },
   "outputs": [
    {
     "name": "stdout",
     "output_type": "stream",
     "text": [
      "[0.00000000e+00 1.03199174e-04 1.03199174e-04 4.43756450e-03\n 4.43756450e-03 5.21155831e-02 5.21155831e-02 2.50773994e-01\n 2.50773994e-01 6.08359133e-01 6.08359133e-01 8.94427245e-01\n 8.94427245e-01 9.89783282e-01 9.89783282e-01 1.00000000e+00\n 1.00000000e+00]\n"
     ]
    }
   ],
   "source": [
    "y = hypergeom.cdf(x, M=M, n=n, N=N)\n",
    "print(y)"
   ]
  },
  {
   "cell_type": "markdown",
   "metadata": {},
   "source": [
    "Зобразіть графічно значення функції розподілу гіпергеометричного розподілу з параметрами $M, n, N$ в точках вектора $x$."
   ]
  },
  {
   "cell_type": "code",
   "execution_count": 61,
   "metadata": {
    "collapsed": false
   },
   "outputs": [],
   "source": [
    "plt.stem(x, y)\n",
    "plt.show()"
   ]
  },
  {
   "cell_type": "markdown",
   "metadata": {},
   "source": [
    "### 2.3 Випадкові величини"
   ]
  },
  {
   "cell_type": "markdown",
   "metadata": {},
   "source": [
    "Згенеруйте $100$ випадкових величин з гіпергеометричного розподілу з параметрами $M, n, N$."
   ]
  },
  {
   "cell_type": "code",
   "execution_count": 62,
   "metadata": {
    "collapsed": false
   },
   "outputs": [
    {
     "name": "stdout",
     "output_type": "stream",
     "text": [
      "[7 1 4 3 4 3 5 4 4 3 2 4 6 6 4 6 5 4 5 2 5 2 4 4 6 5 4 4 5 3 6 5 4 3 3 3 3\n 5 3 4 5 5 7 5 4 4 4 5 5 5 5 3 4 3 5 6 4 4 4 5 6 5 4 4 6 5 3 5 4 5 4 5 5 5\n 3 6 4 4 4 5 4 3 3 3 5 5 5 4 5 4 6 3 4 4 5 6 4 4 3 4]\n"
     ]
    }
   ],
   "source": [
    "_set = hypergeom.rvs(M=M, n=n, N=N, size=100)\n",
    "print(_set)\n"
   ]
  },
  {
   "cell_type": "markdown",
   "metadata": {},
   "source": [
    "Виведіть кількість кожного елемента в отриманому випадковому векторі."
   ]
  },
  {
   "cell_type": "code",
   "execution_count": 63,
   "metadata": {
    "collapsed": false
   },
   "outputs": [
    {
     "name": "stdout",
     "output_type": "stream",
     "text": [
      "Counter({4: 35, 5: 30, 3: 18, 6: 11, 2: 3, 7: 2, 1: 1})\n"
     ]
    }
   ],
   "source": [
    "print(Counter(_set))\n"
   ]
  },
  {
   "cell_type": "markdown",
   "metadata": {},
   "source": [
    "Зобразіть графічно кількість кожного елемента в отриманому випадковому векторі."
   ]
  },
  {
   "cell_type": "code",
   "execution_count": 64,
   "metadata": {
    "collapsed": false,
    "scrolled": true
   },
   "outputs": [],
   "source": [
    "plt.hist(_set)\n",
    "plt.show()"
   ]
  },
  {
   "cell_type": "markdown",
   "metadata": {},
   "source": [
    "## 3 Різні параметри"
   ]
  },
  {
   "cell_type": "markdown",
   "metadata": {},
   "source": [
    "### 3.1 Біноміальний розподіл"
   ]
  },
  {
   "cell_type": "markdown",
   "metadata": {},
   "source": [
    "Зобразіть графічно функцію щільності, функцію розподілу та гістограму $10000$ випадкових величин біноміального розподілу з параметрами:\n",
    "1. $n = 15, p = 0.8$\n",
    "2. $n = 15, p = 0.2$\n",
    "3. $n = 20, p = 0.4$\n",
    "4. $n = 20, p = 0.6$\n",
    "5. $n = 7, p = 0.5$\n",
    "6. $n = 25, p = 0.5$\n",
    "7. $n = 100, p = 0.5$"
   ]
  },
  {
   "cell_type": "code",
   "execution_count": 65,
   "metadata": {
    "collapsed": true
   },
   "outputs": [],
   "source": [
    "from scipy.stats import binom\n",
    "ls = [(15, 0.8), (15, 0.2), (20, 0.4), (20, 0.6), (7, 0.5), (25, 0.5), (100, 0.5)]\n",
    "#unfinished\n",
    "\n"
   ]
  },
  {
   "cell_type": "markdown",
   "metadata": {},
   "source": [
    "Зобразіть графічно функцію щільності, функцію розподілу та гістограму $10000$ випадкових величин геометричного розподілу з параметрами:\n",
    "1. $p = 0.1$\n",
    "2. $p = 0.2$\n",
    "3. $p = 0.3$\n",
    "4. $p = 0.4$\n",
    "5. $p = 0.5$\n",
    "6. $p = 0.6$\n",
    "7. $p = 0.7$\n",
    "8. $p = 0.8$\n",
    "9. $p = 0.9$"
   ]
  },
  {
   "cell_type": "code",
   "execution_count": 66,
   "metadata": {
    "collapsed": true
   },
   "outputs": [],
   "source": [
    "# Місце для Вашого коду\n",
    "\n"
   ]
  },
  {
   "cell_type": "markdown",
   "metadata": {},
   "source": [
    "### 3.3 Розподіл Пуассона"
   ]
  },
  {
   "cell_type": "markdown",
   "metadata": {},
   "source": [
    "Зобразіть графічно функцію щільності, функцію розподілу та гістограму $10000$ випадкових величин розподілу Пуассона з параметрами:\n",
    "1. $\\mu = 0.1$\n",
    "2. $\\mu = 0.2$\n",
    "3. $\\mu = 0.3$\n",
    "4. $\\mu = 0.4$\n",
    "5. $\\mu = 0.5$\n",
    "6. $\\mu = 0.6$\n",
    "7. $\\mu = 0.7$\n",
    "8. $\\mu = 0.8$\n",
    "9. $\\mu = 0.9$"
   ]
  },
  {
   "cell_type": "code",
   "execution_count": 67,
   "metadata": {
    "collapsed": true
   },
   "outputs": [],
   "source": [
    "# Місце для Вашого коду\n",
    "\n"
   ]
  },
  {
   "cell_type": "markdown",
   "metadata": {},
   "source": [
    "### 3.4 Від'ємний біноміальний розподіл"
   ]
  },
  {
   "cell_type": "markdown",
   "metadata": {},
   "source": [
    "Зобразіть графічно функцію щільності, функцію розподілу та гістограму $10000$ випадкових величин від'ємного біноміального розподілу з параметрами:\n",
    "1. $n = 15, p = 0.8$\n",
    "2. $n = 15, p = 0.2$\n",
    "3. $n = 20, p = 0.4$\n",
    "4. $n = 20, p = 0.6$\n",
    "5. $n = 7, p = 0.5$\n",
    "6. $n = 25, p = 0.5$\n",
    "7. $n = 100, p = 0.5$"
   ]
  },
  {
   "cell_type": "code",
   "execution_count": 68,
   "metadata": {
    "collapsed": true
   },
   "outputs": [],
   "source": [
    "# Місце для Вашого коду\n",
    "\n"
   ]
  },
  {
   "cell_type": "markdown",
   "metadata": {},
   "source": [
    "### 3.5 Гіпергеометричний розподіл"
   ]
  },
  {
   "cell_type": "markdown",
   "metadata": {},
   "source": [
    "Зобразіть графічно функцію щільності, функцію розподілу та гістограму $10000$ випадкових величин гіпергеометричного розподілу з параметрами:\n",
    "1. $M = 10, n = 3, N = 7$\n",
    "2. $M = 50, n = 10, N = 5$\n",
    "3. $M = 50, n = 10, N = 10$\n",
    "4. $M = 50, n = 10, N = 20$\n",
    "5. $M = 50, n = 10, N = 30$\n",
    "6. $M = 50, n = 10, N = 40$\n",
    "7. $M = 50, n = 10, N = 50$\n",
    "8. $M = 50, n = 5, N = 25$\n",
    "9. $M = 50, n = 15, N = 25$\n",
    "10. $M = 50, n = 25, N = 25$\n",
    "11. $M = 50, n = 35, N = 25$\n",
    "12. $M = 50, n = 45, N = 25$"
   ]
  },
  {
   "cell_type": "code",
   "execution_count": 69,
   "metadata": {
    "collapsed": true
   },
   "outputs": [],
   "source": [
    "# Місце для Вашого коду\n",
    "\n"
   ]
  },
  {
   "cell_type": "markdown",
   "metadata": {
    "collapsed": true
   },
   "source": [
    "## 4 Апроксимація біноміального розподілу розподілом Пуассона"
   ]
  },
  {
   "cell_type": "markdown",
   "metadata": {},
   "source": [
    "Покажіть схожість біноміального розподілу та розподілу Пуассона (їх функцій щільності) з відповідними параметрами.\n",
    "Наприклад:\n",
    "- $n = 100, p = 0.05$\n",
    "- $n = 100, p = 0.1$\n",
    "- $n = 100, p = 0.15$\n",
    "- $n = 100, p = 0.2$\n",
    "- $n = 100, p = 0.35$\n",
    "- $n = 100, p = 0.5$\n",
    "- $n = 100, p = 0.75$"
   ]
  },
  {
   "cell_type": "code",
   "execution_count": 72,
   "metadata": {
    "collapsed": true
   },
   "outputs": [],
   "source": [
    "from scipy.stats import poisson\n"
   ]
  },
  {
   "cell_type": "code",
   "execution_count": null,
   "metadata": {},
   "outputs": [],
   "source": []
  }
 ],
 "metadata": {
  "kernelspec": {
   "display_name": "Python 3",
   "language": "python",
   "name": "python3"
  },
  "language_info": {
   "codemirror_mode": {
    "name": "ipython",
    "version": 3
   },
   "file_extension": ".py",
   "mimetype": "text/x-python",
   "name": "python",
   "nbconvert_exporter": "python",
   "pygments_lexer": "ipython3",
   "version": "3.6.1"
  }
 },
 "nbformat": 4,
 "nbformat_minor": 0
}
