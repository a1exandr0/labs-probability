{
 "cells": [
  {
   "cell_type": "markdown",
   "metadata": {},
   "source": [
    "# Домашня робота №8"
   ]
  },
  {
   "cell_type": "markdown",
   "metadata": {},
   "source": [
    "# Перетворення випадкових величин та векторів"
   ]
  },
  {
   "cell_type": "code",
   "execution_count": 2,
   "metadata": {
    "collapsed": true
   },
   "outputs": [],
   "source": [
    "import numpy as np\n",
    "import matplotlib.pyplot as plt\n",
    "from scipy.stats import expon, norm, uniform"
   ]
  },
  {
   "cell_type": "markdown",
   "metadata": {},
   "source": [
    "## 1 Експоненційний розподіл"
   ]
  },
  {
   "cell_type": "markdown",
   "metadata": {},
   "source": [
    "### 1.1 Завдання 1.1"
   ]
  },
  {
   "cell_type": "markdown",
   "metadata": {},
   "source": [
    "Розглянемо дві незалежні випадкові величини $\\xi_1, \\xi_2$ зі стандартного експоненційного розподілу.\n",
    "Тобто $\\xi_1, \\xi_2 \\sim Exp(1)$.\n",
    "\n",
    "Який розподіл має випадкова величина $\\displaystyle \\eta = \\frac{\\xi_1}{\\xi_1 + \\xi_2}$?\n",
    "1. Згенеруйте $n = 10000$ значень випадкових величин $\\xi_1, \\xi_2$;\n",
    "2. Отримайте $n = 10000$ значень випадкової величини $\\eta$;\n",
    "3. Зобразіть на графіку:\n",
    "   - нормовану гістограму отриманих $n = 10000$ значень випадкової величини $\\eta$;\n",
    "   - функцію щільності випадкової величини $\\eta$.\n",
    "\n",
    "**Зауваження.** Передбачається використання теореми про обрахунок щільності функції від випадкової величини (через якобіан оберненого відображення)."
   ]
  },
  {
   "cell_type": "code",
   "execution_count": 2,
   "metadata": {
    "collapsed": false
   },
   "outputs": [],
   "source": [
    "dist1 = expon.rvs(size=10000)\n",
    "dist2 = expon.rvs(size=10000)\n",
    "val = np.arange(0, 1, 0.01)\n",
    "plt.hist(dist1 / (dist1 + dist2), density=True, rwidth=0.8)\n",
    "plt.plot(val, np.zeros(x.size)+1, 'r')\n",
    "plt.show()\n"
   ]
  },
  {
   "cell_type": "markdown",
   "metadata": {},
   "source": [
    "### 1.2 Завдання 1.2"
   ]
  },
  {
   "cell_type": "markdown",
   "metadata": {},
   "source": [
    "Розглянемо дві незалежні випадкові величини $\\xi_1, \\xi_2$ зі стандартного експоненційного розподілу.\n",
    "Тобто $\\xi_1, \\xi_2 \\sim Exp(1)$.\n",
    "\n",
    "Який розподіл має випадкова величина $\\eta = \\xi_1 + \\xi_2$?\n",
    "1. Згенеруйте $n = 10000$ значень випадкових величин $\\xi_1, \\xi_2$;\n",
    "2. Отримайте $n = 10000$ значень випадкової величини $\\eta$;\n",
    "3. Зобразіть на графіку:\n",
    "   - нормовану гістограму отриманих $n = 10000$ значень випадкової величини $\\eta$;\n",
    "   - функцію щільності випадкової величини $\\eta$.\n",
    "\n",
    "**Зауваження.** Передбачається використання теореми про обрахунок щільності суми двох незалежних випадкових величин (через згортку щільностей)."
   ]
  },
  {
   "cell_type": "code",
   "execution_count": 3,
   "metadata": {
    "collapsed": false
   },
   "outputs": [],
   "source": [
    "dist1 = expon.rvs(size=10000)\n",
    "dist2 = expon.rvs(size=10000)\n",
    "val = np.arange(0, 10, 0.01)\n",
    "plt.hist(dist1 + dist2, density=True, bins=50)\n",
    "plt.plot(val, val * np.exp(-val), 'r')\n",
    "plt.show()"
   ]
  },
  {
   "cell_type": "markdown",
   "metadata": {},
   "source": [
    "## 2 Нормальний розподіл"
   ]
  },
  {
   "cell_type": "markdown",
   "metadata": {},
   "source": [
    "### 2.1 Завдання 2.1"
   ]
  },
  {
   "cell_type": "markdown",
   "metadata": {},
   "source": [
    "Розглянемо три незалежні випадкові величини $\\xi_1, \\xi_2, \\theta$ такі,\n",
    "що $\\xi_1, \\xi_2 \\sim N(0, 1), \\theta \\sim Uniform(0, 2 \\pi)$.\n",
    "\n",
    "Який розподіл має випадкова величина $\\displaystyle \\zeta = \\xi_1 \\cos \\theta + \\xi_2 \\sin \\theta$?\n",
    "1. Згенеруйте $n = 10000$ значень випадкових величин $\\xi_1, \\xi_2, \\theta$;\n",
    "2. Отримайте $n = 10000$ значень випадкової величини $\\zeta$;\n",
    "3. Зобразіть на графіку:\n",
    "   - нормовану гістограму отриманих $n = 10000$ значень випадкової величини $\\zeta$;\n",
    "   - функцію щільності випадкової величини $\\zeta$.\n",
    "\n",
    "**Зауваження.** Передбачається використання теореми про лінійне перетворення нормальних величин."
   ]
  },
  {
   "cell_type": "code",
   "execution_count": 4,
   "metadata": {
    "collapsed": false
   },
   "outputs": [],
   "source": [
    "dist1 = norm.rvs(size=10000)\n",
    "dist2 = norm.rvs(size=10000)\n",
    "dist3 = uniform(0, 2*np.pi).rvs(size=10000)\n",
    "val = np.arange(-4, 4.01, 0.01)\n",
    "plt.hist(dist1 * np.cos(dist3) + dist2 * np.sin(dist3), density=True, bins=50)\n",
    "plt.plot(val, norm.pdf(val), 'r')\n",
    "plt.show()"
   ]
  },
  {
   "cell_type": "markdown",
   "metadata": {},
   "source": [
    "### 2.2 Завдання 2.2"
   ]
  },
  {
   "cell_type": "markdown",
   "metadata": {},
   "source": [
    "Розглянемо дві незалежні випадкові величини $\\xi_1, \\xi_2$ зі стандартного нормального розподілу.\n",
    "Тобто $\\xi_1, \\xi_2 \\sim N(0, 1)$.\n",
    "\n",
    "Які розподіли (щільності) мають випадкові величини $\\displaystyle \\zeta = \\sqrt{\\xi_1^2 + \\xi_2^2}, \\eta = \\arccos \\frac{\\xi_1}{\\zeta}$?\n",
    "1. Згенеруйте $n = 10000$ значень випадкових величин $\\xi_1, \\xi_2$;\n",
    "2. Отримайте $n = 10000$ значень випадкової величини $\\zeta$;\n",
    "3. Отримайте $n = 10000$ значень випадкової величини $\\eta$;\n",
    "4. Зобразіть на графіку:\n",
    "   - нормовану гістограму отриманих $n = 10000$ значень випадкової величини $\\zeta$;\n",
    "   - функцію щільності випадкової величини $\\zeta$;\n",
    "5. Зобразіть на графіку:\n",
    "   - нормовану гістограму отриманих $n = 10000$ значень випадкової величини $\\eta$;\n",
    "   - функцію щільності випадкової величини $\\eta$.\n",
    "\n",
    "**Зауваження 1.** Передбачається використання теореми про обрахунок щільності функції від випадкової величини (через якобіан оберненого відображення).\n",
    "\n",
    "**Зауваження 2.** Насправді, розподіл отриманих значень випадкової величини $\\eta$ буде трохи відрізнятися від порахованого теоретично (будуть інші параметри).\n",
    "Так виходить за рахунок реалізації функції $\\arccos$ (її області значень)."
   ]
  },
  {
   "cell_type": "code",
   "execution_count": 5,
   "metadata": {
    "collapsed": false
   },
   "outputs": [],
   "source": [
    "dist1 = norm.rvs(size=10000)\n",
    "dist2 = norm.rvs(size=10000)\n",
    "\n",
    "C = np.sqrt(dist1**2 + dist2**2)\n",
    "n = np.arccos(dist1/C)\n",
    "\n",
    "plt.figure(figsize=(20, 5))\n",
    "val = np.arange(0, 4.5, 0.01)\n",
    "plt.subplot(121)\n",
    "plt.hist(C, density=True, bins=50)\n",
    "plt.plot(val, val * np.exp(-val**2 / 2), 'r')\n",
    "val = np.arange(0, 3, 0.1)\n",
    "plt.subplot(122)\n",
    "plt.hist(n, density=True, bins=50)\n",
    "plt.plot(val, np.zeros(val.size) + 1/np.pi, 'r')\n",
    "plt.show()\n"
   ]
  },
  {
   "cell_type": "markdown",
   "metadata": {},
   "source": [
    "## 3 Рівномірний розподіл"
   ]
  },
  {
   "cell_type": "markdown",
   "metadata": {},
   "source": [
    "### 3.1 Завдання 3.1"
   ]
  },
  {
   "cell_type": "markdown",
   "metadata": {},
   "source": [
    "Розглянемо дві незалежні випадкові величини $\\xi_1, \\xi_2$ з рівномірного розподілу на $[-1, 1]$.\n",
    "Тобто $\\xi_1, \\xi_2 \\sim Uniform(-1, 1)$.\n",
    "\n",
    "Який розподіл має випадкова величина $\\eta = \\xi_1 + \\xi_2$?\n",
    "1. Згенеруйте $n = 10000$ значень випадкових величин $\\xi_1, \\xi_2$;\n",
    "2. Отримайте $n = 10000$ значень випадкової величини $\\eta$;\n",
    "3. Зобразіть на графіку:\n",
    "   - нормовану гістограму отриманих $n = 10000$ значень випадкової величини $\\eta$;\n",
    "   - функцію щільності випадкової величини $\\eta$.\n",
    "\n",
    "**Зауваження.** Передбачається використання теореми про обрахунок щільності суми двох незалежних випадкових величин (через згортку щільностей)."
   ]
  },
  {
   "cell_type": "code",
   "execution_count": 3,
   "metadata": {
    "collapsed": false
   },
   "outputs": [],
   "source": [
    "ksi1 = uniform(-1,2)\n",
    "ksi2 = uniform(-1,2)\n",
    "\n",
    "def eta(x):\n",
    "    if -2<x<0:\n",
    "        return (x/2+1)/2\n",
    "    elif 0<x<2:\n",
    "        return (-x/2+1)/2\n",
    "    else:\n",
    "        return 0\n",
    "\n",
    "dist1 = ksi1.rvs(100000)\n",
    "dist2 = ksi2.rvs(100000)\n",
    "\n",
    "dist = (dist1 + dist2)\n",
    "val = np.arange(-2, 2, 0.01)\n",
    "\n",
    "plt.hist(dist, bins=20, density=True, rwidth=0.9)\n",
    "plt.plot(val, list(map(eta, val)))\n",
    "\n",
    "plt.show()\n",
    "\n"
   ]
  },
  {
   "cell_type": "code",
   "execution_count": null,
   "metadata": {
    "collapsed": true
   },
   "outputs": [],
   "source": []
  }
 ],
 "metadata": {
  "kernelspec": {
   "display_name": "Python 3",
   "language": "python",
   "name": "python3"
  },
  "language_info": {
   "codemirror_mode": {
    "name": "ipython",
    "version": 3
   },
   "file_extension": ".py",
   "mimetype": "text/x-python",
   "name": "python",
   "nbconvert_exporter": "python",
   "pygments_lexer": "ipython3",
   "version": "3.6.1"
  }
 },
 "nbformat": 4,
 "nbformat_minor": 0
}
