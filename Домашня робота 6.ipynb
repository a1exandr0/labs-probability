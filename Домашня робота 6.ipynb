{
 "cells": [
  {
   "cell_type": "markdown",
   "metadata": {},
   "source": [
    "# Домашня робота №6"
   ]
  },
  {
   "cell_type": "markdown",
   "metadata": {},
   "source": [
    "# Математичне сподівання та дисперсія"
   ]
  },
  {
   "cell_type": "markdown",
   "metadata": {},
   "source": [
    "## 1 Порівняння"
   ]
  },
  {
   "cell_type": "markdown",
   "metadata": {},
   "source": [
    "1. Реалізуйте функцію для підрахунку математичного сподівання випадкової величини $\\xi$, заданої в класі **scipy.stats**, усіма можливими способами:\n",
    "   - за допомогою методу **mean**;\n",
    "   - за допомогою методу **expect**;\n",
    "   - за допомогою методу **stats**.\n",
    "\n",
    "2. Реалізуйте функцію для підрахунку дисперсії випадкової величини $\\xi$, заданої в класі **scipy.stats**, усіма можливими способами:\n",
    "   - за допомогою методу **var**;\n",
    "   - за допомогою методу **expect** та формули для дисперсії \n",
    "$\\mathsf{D}(\\xi) = \\mathsf{E} \\left[ \\left( \\xi - \\mathsf{E}[\\xi] \\right)^2 \\right]$;\n",
    "   - за допомогою методу **expect** та формули для дисперсії\n",
    "$\\mathsf{D}(\\xi) = \\mathsf{E}[\\xi^2] - \\left( \\mathsf{E}[\\xi] \\right)^2$;\n",
    "   - за допомогою методу **stats**.\n",
    "\n",
    "3. Порахуйте математичне сподівання та дисперсію, використовуючи функції з пунктів **1., 2.**, і порівняйте (виведіть різницю) їх із теоретичними значеннями, використовуючи формули з лекцій, для таких випадкових величин:\n",
    "   - $\\xi \\sim Binom(10, 0.4)$ (біноміальний розподіл);\n",
    "   - $\\xi \\sim Geom(0.5)$ (геометричний розподіл);\n",
    "   - $\\xi \\sim Pois(0.6)$ (розподіл Пуассона);\n",
    "   - $\\xi \\sim NBinom(5, 0.4)$ (від'ємний біноміальний розподіл);\n",
    "   - $\\xi \\sim HGeom(20, 7, 12)$ (гіпергеометричний розподіл);\n",
    "   - $\\xi \\sim Unif(0, 1)$ (рівномірний розподіл);\n",
    "   - $\\xi \\sim Exp(0.5)$ (експоненційний (показниковий) розподіл);\n",
    "   - $\\xi \\sim N(0, 1)$ (нормальний розподіл);\n",
    "   - $\\xi \\sim \\Gamma(2)$ (гамма розподіл);\n",
    "   - $\\xi \\sim LogNorm(0, 1)$ (логнормальний розподіл);\n",
    "   - $\\xi \\sim B(2, 1.1)$ (бета розподіл)."
   ]
  },
  {
   "cell_type": "code",
   "execution_count": 14,
   "metadata": {
    "collapsed": true
   },
   "outputs": [
    {
     "name": "stdout",
     "output_type": "stream",
     "text": [
      "Binom \n exp: (4.0, 4.0000000000000036, array(4.)) \n var: (2.4, 2.4000000000000012, 2.399999999999995, array(2.4))\n\n\nGeom \n exp: (2.0, 2.0, array(2.)) \n var: (2.0, 2.0, 2.0, array(2.))\n\n\nPoisson \n exp: (0.6, 0.6, array(0.6)) \n var: (0.6, 0.5999999999999999, 0.6, array(0.6))\n\n\n-Binom \n exp: (7.5, 7.500000000000006, array(7.5)) \n var: (18.75, 18.750000000000007, 18.749999999999964, array(18.75))\n\n\nHyperGeom \n exp: (4.199999999999999, 4.199999999999995, array(4.2)) \n var: (1.1494736842105264, 1.1494736842105246, 1.149473684210541, array(1.14947368))\n\n\nUniform \n exp: (0.5, 0.5, array(0.5)) \n var: (0.08333333333333333, 0.08333333333333333, 0.08333333333333337, array(0.08333333))\n\n\n"
     ]
    },
    {
     "name": "stdout",
     "output_type": "stream",
     "text": [
      "Exponential \n exp: (1.5, 1.4999999999999996, array(1.5)) \n var: (1.0, 1.0, 1.0000000000000018, array(1.))\n\n\n"
     ]
    },
    {
     "name": "stdout",
     "output_type": "stream",
     "text": [
      "Normal \n exp: (0.0, 0.0, array(0.)) \n var: (1.0, 1.000000000000001, 1.000000000000001, array(1.))\n\n\n"
     ]
    },
    {
     "name": "stdout",
     "output_type": "stream",
     "text": [
      "Gamma \n exp: (2.0, 2.0, array(2.)) \n var: (2.0, 2.0000000000000004, 2.0, array(2.))\n\n\n"
     ]
    },
    {
     "name": "stdout",
     "output_type": "stream",
     "text": [
      "LogNormal \n exp: (1.6487212707001282, 1.6487212706999776, array(1.64872127)) \n var: (4.670774270471604, 4.670774270452187, 4.670774270429307, array(4.67077427))\n\n\n"
     ]
    },
    {
     "name": "stdout",
     "output_type": "stream",
     "text": [
      "Beta \n exp: (0.6451612903225806, 0.6451612903225803, array(0.64516129)) \n var: (0.05583614629070329, 0.055836146290680275, 0.05583614629070349, array(0.05583615))\n\n\n"
     ]
    }
   ],
   "source": [
    "from scipy.stats import *\n",
    "\n",
    "dist = {binom: [[10, 0.4], 'Binom'], geom: [[0.5, ], 'Geom'], \n",
    "      poisson: [[0.6, ], 'Poisson'], nbinom: [[5, 0.4], '-Binom'],\n",
    "      hypergeom: [[20, 7, 12], 'HyperGeom'], uniform: [[0, 1], 'Uniform'],\n",
    "      expon: [[0.5, ], 'Exponential'], norm: [[0, 1], 'Normal'],\n",
    "      gamma: [[2, ], 'Gamma'], lognorm: [[1, 0], 'LogNormal'],\n",
    "      beta: [[2, 1.1], 'Beta']}\n",
    "\n",
    "\n",
    "def get_expects(rm):\n",
    "    return rm.mean(), rm.expect(), rm.stats()[0]\n",
    "\n",
    "\n",
    "def get_variances(rm):\n",
    "    tmp1 = rm.var()\n",
    "    tmp2 = rm.expect(lambda x: (x - rm.expect()) ** 2)\n",
    "    tmp3 = rm.expect(lambda x: x ** 2) - (rm.expect()) ** 2\n",
    "    tmp4 = rm.stats()[1]    \n",
    "    return tmp1, tmp2, tmp3, tmp4\n",
    "\n",
    "\n",
    "for tp, [params, distr] in dist.items():\n",
    "    rm = tp(*params)\n",
    "    print('{} \\n exp: {} \\n var: {}'.format(distr, get_expects(rm), get_variances(rm)))\n",
    "    print()\n",
    "    print()"
   ]
  },
  {
   "cell_type": "markdown",
   "metadata": {},
   "source": [
    "## 2 Унікальні цифри"
   ]
  },
  {
   "cell_type": "markdown",
   "metadata": {},
   "source": [
    "Нехай випадковим чином вибирають послідовно $n$ цифр (цифри можуть повторюватися, вибірка з поверненням).\n",
    "Нехай тоді випадкова величина $\\xi$ - це кількість унікальних цифр в отриманому наборі.\n",
    "\n",
    "Напишіть функцію для обрахунку математичного сподівання та дисперсії випадкової величини $\\xi$ в залежності від кількості $n$ цифр у наборі методом повного перебору.\n",
    "Виведіть результат для $n = 1, 2, 3, 4, 5, 6, 7.$"
   ]
  },
  {
   "cell_type": "code",
   "execution_count": 16,
   "metadata": {
    "collapsed": true
   },
   "outputs": [
    {
     "name": "stdout",
     "output_type": "stream",
     "text": [
      "n = 1 \n exp: 1.0 \n var: 0.0 \n\nn = 2 \n exp: 1.9000000000000001 \n var: 0.08999999999999986 \n\nn = 3 \n exp: 2.71 \n var: 0.22589999999999932 \n\nn = 4 \n exp: 3.439 \n var: 0.37827899999999914 \n\n"
     ]
    },
    {
     "name": "stdout",
     "output_type": "stream",
     "text": [
      "n = 5 \n exp: 4.0951 \n var: 0.5282559899999946 \n\n"
     ]
    },
    {
     "name": "stdout",
     "output_type": "stream",
     "text": [
      "n = 6 \n exp: 4.6855899999999995 \n var: 0.6644163519000053 \n\n"
     ]
    },
    {
     "name": "stdout",
     "output_type": "stream",
     "text": [
      "n = 7 \n exp: 5.2170309999999995 \n var: 0.7805445450390032 \n\n"
     ]
    }
   ],
   "source": [
    "from itertools import product\n",
    "import numpy as np\n",
    "from scipy.stats import rv_discrete\n",
    "\n",
    "\n",
    "def dist_gen(n):\n",
    "    buff = []\n",
    "    nums = np.arange(1, n+1)\n",
    "    for k in nums:\n",
    "        count = 0\n",
    "        succ = 0\n",
    "        for i in product(range(10), repeat=n):\n",
    "            succ += 1\n",
    "            if len(list(set(i))) == k:\n",
    "                count += 1\n",
    "        buff.append(count / succ)\n",
    "    dist = rv_discrete(values=(nums, buff))\n",
    "    return dist\n",
    "\n",
    "\n",
    "for n in range(1, 8):\n",
    "    dist = dist_gen(n)\n",
    "    print('n = {} \\n exp: {} \\n var: {} \\n'.format(n, dist.expect(), dist.var()))\n"
   ]
  },
  {
   "cell_type": "markdown",
   "metadata": {},
   "source": [
    "## 3 Максимальне значення"
   ]
  },
  {
   "cell_type": "markdown",
   "metadata": {},
   "source": [
    "Нехай випадкова величина $\\xi$ - це максимальне значення після $n$ кидків грального кубика.\n",
    "\n",
    "Напишіть функцію для обрахунку математичного сподівання та дисперсії випадкової величини $\\xi$ в залежності від кількості $n$ кидків кубика методом повного перебору.\n",
    "Виведіть результат для $n = 1, 2, 3, 4, 5, 6, 7, 8, 9.$\n",
    "\n",
    "Напишіть теоретичну формулу для математичного сподівання та дисперсії випадкової величини $\\xi$.\n",
    "Порівняйте теоретичні значення з обчисленими повним перебором."
   ]
  },
  {
   "cell_type": "code",
   "execution_count": 17,
   "metadata": {
    "collapsed": true
   },
   "outputs": [
    {
     "name": "stdout",
     "output_type": "stream",
     "text": [
      "n = 1\n theoretical: (array(3.5), array(2.91666667))\n brute: (array(3.5), array(2.91666667))\n\nn = 2\n theoretical: (array(4.47222222), array(1.97145062))\n brute: (array(4.47222222), array(1.97145062))\n\nn = 3\n theoretical: (array(4.95833333), array(1.30844907))\n brute: (array(4.95833333), array(1.30844907))\n\nn = 4\n theoretical: (array(5.24459877), array(0.91007885))\n brute: (array(5.24459877), array(0.91007885))\n\nn = 5\n theoretical: (array(5.43094136), array(0.65932555))\n brute: (array(5.43094136), array(0.65932555))\n\nn = 6\n theoretical: (array(5.56029235), array(0.49284974))\n brute: (array(5.56029235), array(0.49284974))\n\n"
     ]
    },
    {
     "name": "stdout",
     "output_type": "stream",
     "text": [
      "n = 7\n theoretical: (array(5.65411737), array(0.37732523))\n brute: (array(5.65411737), array(0.37732523))\n\n"
     ]
    },
    {
     "name": "stdout",
     "output_type": "stream",
     "text": [
      "n = 8\n theoretical: (array(5.72435426), array(0.29424631))\n brute: (array(5.72435426), array(0.29424631))\n\n"
     ]
    },
    {
     "name": "stdout",
     "output_type": "stream",
     "text": [
      "n = 9\n theoretical: (array(5.77817698), array(0.23276029))\n brute: (array(5.77817698), array(0.23276029))\n\n"
     ]
    }
   ],
   "source": [
    "def theor(n):\n",
    "    cube_v = np.arange(1, 7)\n",
    "    buff = (cube_v**n - (cube_v - 1) ** n) / 6 ** n\n",
    "    return rv_discrete(values=(cube_v, buff))\n",
    "\n",
    "\n",
    "def brute(n):\n",
    "    cube_v = np.arange(1, 7)\n",
    "    buff = []\n",
    "    for i in cube_v:\n",
    "        count = 0\n",
    "        succ = 0\n",
    "        for j in product(cube_v, repeat=n):\n",
    "            succ += 1\n",
    "            if max(j) == i:\n",
    "                count += 1\n",
    "        buff.append(count / succ)\n",
    "    return rv_discrete(values=(cube_v, buff))\n",
    "\n",
    "\n",
    "for n in range(1, 10):\n",
    "    print('n = {}\\n theoretical: {}\\n brute: {}\\n'.format(n, theor(n).stats(), brute(n).stats()))\n"
   ]
  },
  {
   "cell_type": "markdown",
   "metadata": {},
   "source": [
    "## 4 Сума значень"
   ]
  },
  {
   "cell_type": "markdown",
   "metadata": {},
   "source": [
    "Нехай випадкова величина $\\xi$ - це сума значень після $n$ кидків грального кубика (сума цифр, що випали).\n",
    "\n",
    "Напишіть функцію для обрахунку математичного сподівання та дисперсії випадкової величини $\\xi$ в залежності від кількості $n$ кидків кубика методом повного перебору.\n",
    "Виведіть результат для $n = 1, 2, 3, 5, 7, 8.$\n",
    "\n",
    "Напишіть теоретичну формулу для математичного сподівання та дисперсії випадкової величини $\\xi$.\n",
    "Порівняйте теоретичні значення з обчисленими повним перебором."
   ]
  },
  {
   "cell_type": "code",
   "execution_count": 18,
   "metadata": {
    "collapsed": true
   },
   "outputs": [
    {
     "name": "stdout",
     "output_type": "stream",
     "text": [
      "n = 1\n theoretical: (3.5, 2.9166666666666665)\n brute: (3.5, 2.916666666666666)\n\nn = 2\n theoretical: (7.0, 5.833333333333333)\n brute: (6.999999999999999, 5.833333333333336)\n\nn = 3\n theoretical: (10.5, 8.75)\n brute: (10.500000000000002, 8.749999999999972)\n\nn = 5\n theoretical: (17.5, 14.583333333333332)\n brute: (17.5, 14.583333333333371)\n\n"
     ]
    },
    {
     "name": "stdout",
     "output_type": "stream",
     "text": [
      "n = 7\n theoretical: (24.5, 20.416666666666664)\n brute: (24.5, 20.41666666666663)\n\n"
     ]
    },
    {
     "name": "stdout",
     "output_type": "stream",
     "text": [
      "n = 8\n theoretical: (28.0, 23.333333333333332)\n brute: (28.000000000000007, 23.333333333333144)\n\n"
     ]
    }
   ],
   "source": [
    "def brute(n):\n",
    "    summ = np.arange(0, 6*n+1)\n",
    "    buff = []\n",
    "    for i in summ:\n",
    "        count = 0\n",
    "        succ = 0\n",
    "        for j in product(range(1, 7), repeat=n):\n",
    "            succ += 1\n",
    "            if sum(j) == i:\n",
    "                count += 1\n",
    "        buff.append(count / succ)\n",
    "    exp = 0\n",
    "    var = 0\n",
    "    for i, j in zip(summ, buff):\n",
    "        exp += i * j\n",
    "        var += i**2 * j\n",
    "    return exp, var - exp**2\n",
    "\n",
    "\n",
    "def theor(n):\n",
    "    return 3.5 * n, (35/12) * n \n",
    "\n",
    "\n",
    "for n in [1, 2, 3, 5, 7, 8]:\n",
    "    print('n = {}\\n theoretical: {}\\n brute: {}\\n'.format(n, theor(n), brute(n)))\n"
   ]
  },
  {
   "cell_type": "markdown",
   "metadata": {},
   "source": [
    "## 5 Парадокс днів народження"
   ]
  },
  {
   "cell_type": "markdown",
   "metadata": {},
   "source": [
    "Нехай маємо $n$ людей.\n",
    "Їх дні народження припадають на один з 12 місяців.\n",
    "Нехай тоді випадкова величина $\\xi$ - це кількість співпадінь місяців народжень серед цих $n$ людей.\n",
    "\n",
    "Напишіть функцію для обрахунку математичного сподівання та дисперсії випадкової величини $\\xi$ в залежності від кількості $n$ людей методом повного перебору.\n",
    "Виведіть результат для $n = 1, 2, 3, 4, 5, 6.$\n",
    "\n",
    "Для якого $n$ виконується $\\mathsf{E}\\left[ \\xi \\right] \\geq 1$?\n",
    "\n",
    "**Зауваження.** Кількість співпадінь означає кількість однакових пар. Наприклад,\n",
    "- у наборі $\\{ 1, 1, 2, 3 \\}$ є одна пара;\n",
    "- у наборі $\\{ 1, 1, 1, 3 \\}$ є три пари;\n",
    "- у наборі $\\{ 1, 1, 1, 1 \\}$ є шість пар."
   ]
  },
  {
   "cell_type": "code",
   "execution_count": 20,
   "metadata": {
    "collapsed": true
   },
   "outputs": [
    {
     "name": "stdout",
     "output_type": "stream",
     "text": [
      "n = 1\n  (0.0, 0.0)\nn = 2\n  (0.08333333333333333, 0.07638888888888888)\nn = 3\n  (0.25, 0.22916666666666663)\nn = 4\n  (0.49999999999999994, 0.4583333333333334)\n"
     ]
    },
    {
     "name": "stdout",
     "output_type": "stream",
     "text": [
      "n = 5\n  (0.8333333333333334, 0.763888888888889)\n"
     ]
    },
    {
     "name": "stdout",
     "output_type": "stream",
     "text": [
      "n = 6\n  (1.25, 1.145833333333333)\n"
     ]
    }
   ],
   "source": [
    "from collections import defaultdict\n",
    "from collections import Counter\n",
    "from math import factorial\n",
    "\n",
    "\n",
    "def CnK(n, k):\n",
    "    if k == n:\n",
    "        return 1\n",
    "    elif k > n:\n",
    "        return 0\n",
    "    else:\n",
    "        return int(factorial(n) / (factorial(n - k) * factorial(k)))\n",
    "\n",
    "\n",
    "def brute(n):\n",
    "    count = defaultdict(int)\n",
    "    succ = 0\n",
    "    for el in product(range(1, 13), repeat=n):\n",
    "        tmp = Counter(el)\n",
    "        res = sum(map(lambda a: CnK(a, 2), tmp.values()))\n",
    "        count[res] += 1\n",
    "        succ += 1\n",
    "    exp = 0\n",
    "    var = 0\n",
    "    for i in range(max(count.keys()) + 1):\n",
    "        exp += i * count[i] / succ\n",
    "        var += i**2 * count[i] / succ\n",
    "    return exp, var - exp ** 2\n",
    "\n",
    "\n",
    "for n in range(1, 7):\n",
    "    print('n = {}\\n  {}'.format(n, brute(n)))\n"
   ]
  },
  {
   "cell_type": "code",
   "execution_count": 22,
   "metadata": {},
   "outputs": [],
   "source": []
  },
  {
   "cell_type": "code",
   "execution_count": 22,
   "metadata": {},
   "outputs": [],
   "source": []
  }
 ],
 "metadata": {
  "kernelspec": {
   "display_name": "Python 3",
   "language": "python",
   "name": "python3"
  },
  "language_info": {
   "codemirror_mode": {
    "name": "ipython",
    "version": 3
   },
   "file_extension": ".py",
   "mimetype": "text/x-python",
   "name": "python",
   "nbconvert_exporter": "python",
   "pygments_lexer": "ipython3",
   "version": "3.6.1"
  }
 },
 "nbformat": 4,
 "nbformat_minor": 0
}
