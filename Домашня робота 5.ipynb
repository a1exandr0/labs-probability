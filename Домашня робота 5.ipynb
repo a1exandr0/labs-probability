{
 "cells": [
  {
   "cell_type": "markdown",
   "metadata": {},
   "source": [
    "# Домашня робота №5"
   ]
  },
  {
   "cell_type": "markdown",
   "metadata": {},
   "source": [
    "# Неперервні розподіли"
   ]
  },
  {
   "cell_type": "code",
   "execution_count": 2,
   "metadata": {
    "collapsed": true
   },
   "outputs": [],
   "source": [
    "import numpy as np\n",
    "import matplotlib.pyplot as plt"
   ]
  },
  {
   "cell_type": "markdown",
   "metadata": {},
   "source": [
    "## 1 Логнормальний розподіл"
   ]
  },
  {
   "cell_type": "markdown",
   "metadata": {},
   "source": [
    "Більш детальна інформація в [документації](https://docs.scipy.org/doc/scipy/reference/generated/scipy.stats.lognorm.html)."
   ]
  },
  {
   "cell_type": "code",
   "execution_count": 6,
   "metadata": {
    "collapsed": true
   },
   "outputs": [],
   "source": [
    "from scipy.stats import lognorm"
   ]
  },
  {
   "cell_type": "markdown",
   "metadata": {},
   "source": [
    "Випадкова велиина $Y$ має логнормальний розподіл, якщо $Y = \\exp \\left\\{ X \\right\\}$, де $X$ - випадкова величина з нормального розподілу."
   ]
  },
  {
   "cell_type": "code",
   "execution_count": 3,
   "metadata": {
    "collapsed": true
   },
   "outputs": [],
   "source": [
    "mu = 0\n",
    "sigma = 1"
   ]
  },
  {
   "cell_type": "markdown",
   "metadata": {},
   "source": [
    "Параметри $s, loc, scale$ відповідають логнормальному розподілу зі щільністю $$f(x) = \\frac{1}{s (x - loc) \\sqrt{2 \\pi}} \\exp \\left\\{ -\\frac{1}{2 s^2} \\log^2 \\left( \\frac{x - loc}{scale} \\right) \\right\\}.$$"
   ]
  },
  {
   "cell_type": "code",
   "execution_count": 4,
   "metadata": {
    "collapsed": false
   },
   "outputs": [],
   "source": [
    "s = sigma\n",
    "loc = 0\n",
    "scale = np.exp(mu)"
   ]
  },
  {
   "cell_type": "markdown",
   "metadata": {},
   "source": [
    "### 1.1 Щільність"
   ]
  },
  {
   "cell_type": "code",
   "execution_count": 5,
   "metadata": {
    "collapsed": true
   },
   "outputs": [],
   "source": [
    "x1 = np.arange(-1, 5, 0.1)"
   ]
  },
  {
   "cell_type": "markdown",
   "metadata": {},
   "source": [
    "Виведіть значення функції щільності логнормального розподілу з параметрами $s, loc, scale$ в точках вектора $x1$."
   ]
  },
  {
   "cell_type": "code",
   "execution_count": 68,
   "metadata": {
    "collapsed": false
   },
   "outputs": [
    {
     "name": "stdout",
     "output_type": "stream",
     "text": [
      "[0.         0.         0.         0.         0.         0.\n 0.         0.         0.         0.         0.         0.28159019\n 0.54626787 0.64420326 0.65544417 0.62749608 0.58357382 0.53479483\n 0.48641578 0.44081569 0.39894228 0.36103126 0.32697202 0.29649637\n 0.26927623 0.24497365 0.22326545 0.20385426 0.18647245 0.17088224\n 0.15687402]\n"
     ]
    }
   ],
   "source": [
    "ln_pdf = lognorm.pdf(x1, s=s, loc=loc, scale=scale)\n",
    "print(ln_pdf)\n"
   ]
  },
  {
   "cell_type": "markdown",
   "metadata": {},
   "source": [
    "Зобразіть графічно значення функції щільності логнормального розподілу з параметрами $s, loc, scale$ в точках вектора $x2$."
   ]
  },
  {
   "cell_type": "code",
   "execution_count": 7,
   "metadata": {
    "collapsed": true
   },
   "outputs": [],
   "source": [
    "x2 = np.arange(-1, 5.01, 0.01)"
   ]
  },
  {
   "cell_type": "code",
   "execution_count": 69,
   "metadata": {
    "collapsed": false,
    "scrolled": true
   },
   "outputs": [],
   "source": [
    "plt.plot(x2, lognorm.pdf(x2, s=s, loc=loc, scale=scale))\n",
    "plt.show()"
   ]
  },
  {
   "cell_type": "markdown",
   "metadata": {},
   "source": [
    "### 1.2 Функція розподілу"
   ]
  },
  {
   "cell_type": "markdown",
   "metadata": {},
   "source": [
    "Виведіть значення функції розподілу логнормального розподілу з параметрами $s, loc, scale$ в точках вектора $x1$."
   ]
  },
  {
   "cell_type": "code",
   "execution_count": 70,
   "metadata": {
    "collapsed": false
   },
   "outputs": [
    {
     "name": "stdout",
     "output_type": "stream",
     "text": [
      "[0.         0.         0.         0.         0.         0.\n 0.         0.         0.         0.         0.         0.0106511\n 0.05376031 0.11430005 0.17975721 0.2441086  0.30473658 0.36066758\n 0.41171189 0.45804487 0.5        0.53796577 0.57233481 0.60347969\n 0.63174261 0.65743217 0.68082379 0.70216179 0.72166225 0.73951597\n 0.7558914 ]\n"
     ]
    }
   ],
   "source": [
    "ln_cdf = lognorm.cdf(x1, s=s, loc=loc, scale=scale)\n",
    "print(ln_cdf)\n"
   ]
  },
  {
   "cell_type": "markdown",
   "metadata": {},
   "source": [
    "Зобразіть графічно значення функції розподілу логнормального розподілу з параметрами $s, loc, scale$ в точках вектора $x2$."
   ]
  },
  {
   "cell_type": "code",
   "execution_count": 71,
   "metadata": {
    "collapsed": false
   },
   "outputs": [],
   "source": [
    "plt.plot(x2, lognorm.cdf(x2, s=s, loc=loc, scale=scale))\n",
    "plt.show()\n"
   ]
  },
  {
   "cell_type": "markdown",
   "metadata": {},
   "source": [
    "### 1.3 Випадкові величини"
   ]
  },
  {
   "cell_type": "markdown",
   "metadata": {},
   "source": [
    "Згенеруйте $100$ випадкових величин з логнормального розподілу з параметрами $s, loc, scale$."
   ]
  },
  {
   "cell_type": "code",
   "execution_count": 72,
   "metadata": {
    "collapsed": false
   },
   "outputs": [
    {
     "name": "stdout",
     "output_type": "stream",
     "text": [
      "[ 0.46957031  1.48401448  1.04621832  1.268795    1.15043595  2.05609801\n  3.01403223  0.2356864   0.76660173  0.56644975  0.40637306  4.54281416\n  2.27666284  0.34697118  0.28176452  0.16622775  1.22655769  0.4810989\n  0.12615481  0.29398213  2.11755162  0.16282095  0.66291195  0.28585729\n  0.29778442  1.93686185  0.22322144  1.66908779  3.65631808  1.60637511\n  0.18037687  0.92565259  2.64707592  2.86387264  0.73028065  0.50039243\n  1.11717198  0.64073212  0.48376203  3.84062091  0.75526452  7.82075045\n  0.890285    1.41473784  1.43940241  0.47970373  0.45992576  3.06865158\n  0.16711823  0.11722923  0.16458586  1.12745645  3.21222163  2.74305329\n  3.14102291  0.95535586  0.49030763  5.04272202 11.27861428  0.62132612\n  0.47643391  0.51385729  0.24815783  0.63104867  2.75615429  0.0992902\n  0.09591279  0.3593512   0.20305602  4.03963202  0.44822155  0.67317947\n  0.42653669  0.83534306  0.12090329  0.73619569  0.1241574   0.46480413\n  0.53300984  0.60078645  1.43170477  2.05210922  4.26412448  1.39649262\n  0.37519688  1.27688684  0.40295976  1.06550694  0.90722927  2.98370226\n  0.34517991  0.23953758  0.42858849  2.92793484  0.97638559  1.68377862\n  0.20925662  1.07299786  0.50483317  0.07249396]\n"
     ]
    }
   ],
   "source": [
    "ln_rvs = lognorm.rvs(s=s, loc=loc, scale=scale, size=100)\n",
    "print(ln_rvs)"
   ]
  },
  {
   "cell_type": "markdown",
   "metadata": {},
   "source": [
    "Зобразіть гістограму $10000$ випадкових величин з логнормального розподілу з параметрами $s, loc, scale$."
   ]
  },
  {
   "cell_type": "code",
   "execution_count": 73,
   "metadata": {
    "collapsed": false
   },
   "outputs": [],
   "source": [
    "plt.hist(lognorm.rvs(s=s, loc=loc, scale=scale, size=10000), bins=30)\n",
    "plt.show()"
   ]
  },
  {
   "cell_type": "markdown",
   "metadata": {},
   "source": [
    "Зобразіть графік функції щільності та нормовану гістограму $100000$ випадкових величин з логнормального розподілу з параметрами $s, loc, scale$. Поексперементуйте з аргументом $bins$ функції `hist`."
   ]
  },
  {
   "cell_type": "code",
   "execution_count": 74,
   "metadata": {
    "collapsed": false,
    "scrolled": true
   },
   "outputs": [],
   "source": [
    "ln_rvs = lognorm.rvs(s=s, loc=loc, scale=scale, size=10000)\n",
    "\n",
    "x = np.arange(0, 20, 0.01)\n",
    "\n",
    "plt.figure(figsize=(20, 5))\n",
    "\n",
    "plt.subplot(1, 3, 1, title='щільність')\n",
    "plt.plot(x, lognorm.pdf(x, s=s, loc=loc, scale=scale))\n",
    "\n",
    "plt.subplot(1, 3, 2, title='bins==30')\n",
    "plt.hist(ln_rvs, bins=30, density=True)\n",
    "\n",
    "plt.subplot(1, 3, 3, title='bins==70')\n",
    "plt.hist(ln_rvs, bins=70, density=True)\n",
    "\n",
    "plt.show()"
   ]
  },
  {
   "cell_type": "markdown",
   "metadata": {},
   "source": [
    "## 2 Бета розподіл"
   ]
  },
  {
   "cell_type": "markdown",
   "metadata": {},
   "source": [
    "Більш детальна інформація в [документації](https://docs.scipy.org/doc/scipy/reference/generated/scipy.stats.beta.html)."
   ]
  },
  {
   "cell_type": "code",
   "execution_count": 14,
   "metadata": {
    "collapsed": true
   },
   "outputs": [],
   "source": [
    "from scipy.stats import beta"
   ]
  },
  {
   "cell_type": "code",
   "execution_count": 15,
   "metadata": {
    "collapsed": true
   },
   "outputs": [],
   "source": [
    "a = 2\n",
    "b = 1.1"
   ]
  },
  {
   "cell_type": "markdown",
   "metadata": {},
   "source": [
    "Параметри $loc, scale$ відповідають бета розподілу зі щільністю $$f(x) = \\frac{\\Gamma(\\alpha + \\beta)}{\\Gamma(\\alpha) \\Gamma(\\beta) \\, scale} \\left( \\frac{x - loc}{scale} \\right)^{\\alpha - 1} \\left( 1 - \\frac{x - loc}{scale} \\right)^{\\beta - 1}.$$"
   ]
  },
  {
   "cell_type": "code",
   "execution_count": 16,
   "metadata": {
    "collapsed": true
   },
   "outputs": [],
   "source": [
    "loc = 0\n",
    "scale = 1"
   ]
  },
  {
   "cell_type": "markdown",
   "metadata": {},
   "source": [
    "### 2.1 Щільність"
   ]
  },
  {
   "cell_type": "code",
   "execution_count": 17,
   "metadata": {
    "collapsed": true
   },
   "outputs": [],
   "source": [
    "x1 = np.arange(-1, 2.1, 0.1)"
   ]
  },
  {
   "cell_type": "markdown",
   "metadata": {},
   "source": [
    "Виведіть значення функції щільності бета розподілу з параметрами $a, b, loc, scale$ в точках вектора $x1$."
   ]
  },
  {
   "cell_type": "code",
   "execution_count": 75,
   "metadata": {
    "collapsed": false
   },
   "outputs": [
    {
     "name": "stdout",
     "output_type": "stream",
     "text": [
      "[0.         0.         0.         0.         0.         0.\n 0.         0.         0.         0.         0.         0.22857895\n 0.45180494 0.66871804 0.877985   1.07765311 1.26464674 1.4335807\n 1.57327618 1.6514084  0.06735332 0.         0.         0.\n 0.         0.         0.         0.         0.         0.\n 0.        ]\n"
     ]
    }
   ],
   "source": [
    "b_pdf = beta.pdf(x1, a=a, b=b, loc=loc, scale=scale)\n",
    "print(b_pdf)\n"
   ]
  },
  {
   "cell_type": "markdown",
   "metadata": {},
   "source": [
    "Зобразіть графічно значення функції щільності бета розподілу з параметрами $a, b, loc, scale$ в точках вектора $x2$."
   ]
  },
  {
   "cell_type": "code",
   "execution_count": 19,
   "metadata": {
    "collapsed": true
   },
   "outputs": [],
   "source": [
    "x2 = np.arange(-1, 2.01, 0.01)"
   ]
  },
  {
   "cell_type": "code",
   "execution_count": 76,
   "metadata": {
    "collapsed": false
   },
   "outputs": [],
   "source": [
    "plt.plot(beta.pdf(x2, a=a, b=b, loc=loc, scale=scale))\n",
    "plt.show()"
   ]
  },
  {
   "cell_type": "markdown",
   "metadata": {},
   "source": [
    "### 2.2 Функція розподілу"
   ]
  },
  {
   "cell_type": "markdown",
   "metadata": {},
   "source": [
    "Виведіть значення функції розподілу бета розподілу з параметрами $a, b, loc, scale$ в точках вектора $x1$."
   ]
  },
  {
   "cell_type": "code",
   "execution_count": 77,
   "metadata": {
    "collapsed": false
   },
   "outputs": [
    {
     "name": "stdout",
     "output_type": "stream",
     "text": [
      "[0.         0.         0.         0.         0.         0.\n 0.         0.         0.         0.         0.         0.01147026\n 0.04553762 0.10162122 0.17902701 0.27689943 0.39413749 0.52923231\n 0.67989619 0.84192868 1.         1.         1.         1.\n 1.         1.         1.         1.         1.         1.\n 1.        ]\n"
     ]
    }
   ],
   "source": [
    "b_cdf = beta.cdf(x1, a=a, b=b, loc=loc, scale=scale)\n",
    "print(b_cdf)\n"
   ]
  },
  {
   "cell_type": "markdown",
   "metadata": {},
   "source": [
    "Зобразіть графічно значення функції розподілу бета розподілу з параметрами $a, b, loc, scale$ в точках вектора $x2$."
   ]
  },
  {
   "cell_type": "code",
   "execution_count": 78,
   "metadata": {
    "collapsed": false
   },
   "outputs": [],
   "source": [
    "plt.plot(x2, beta.cdf(x2, a=a, b=b, loc=loc, scale=scale))\n",
    "plt.show()"
   ]
  },
  {
   "cell_type": "markdown",
   "metadata": {},
   "source": [
    "### 2.3 Випадкові величини"
   ]
  },
  {
   "cell_type": "markdown",
   "metadata": {},
   "source": [
    "Згенеруйте $100$ випадкових величин з бета розподілу з параметрами $a, b, loc, scale$."
   ]
  },
  {
   "cell_type": "code",
   "execution_count": 79,
   "metadata": {
    "collapsed": false
   },
   "outputs": [
    {
     "name": "stdout",
     "output_type": "stream",
     "text": [
      "[0.16959282 0.79892263 0.24039553 0.59210133 0.95666897 0.82905663\n 0.28673464 0.22171067 0.5131455  0.82371114 0.84550805 0.91519877\n 0.70471904 0.66820121 0.53025234 0.35046524 0.6862211  0.67881794\n 0.62416392 0.3286125  0.8774644  0.79410974 0.77242835 0.89991118\n 0.71102954 0.58978825 0.60117701 0.57967193 0.95966084 0.83205737\n 0.8561018  0.19159215 0.38170572 0.80710267 0.83830479 0.9367609\n 0.65268581 0.94230808 0.37114266 0.65255931 0.92893704 0.57287229\n 0.40922538 0.12879992 0.35721225 0.68003437 0.71284039 0.56638821\n 0.58118003 0.9636301  0.51691849 0.74901451 0.89108526 0.75018727\n 0.84232221 0.6497003  0.64188357 0.69708165 0.95610859 0.65776185\n 0.79041167 0.23430002 0.86165757 0.87138023 0.50930309 0.18018933\n 0.62597891 0.50907803 0.2793286  0.2712532  0.44059729 0.42584346\n 0.87437489 0.75344122 0.61053575 0.90177066 0.78696791 0.70463828\n 0.3153072  0.54586626 0.76563442 0.59775932 0.64881459 0.15372502\n 0.50510047 0.77374646 0.58157895 0.97538708 0.57797609 0.97654646\n 0.06263937 0.33007398 0.40148869 0.70250068 0.97539104 0.49629545\n 0.30933128 0.95111755 0.24568707 0.24786719]\n"
     ]
    }
   ],
   "source": [
    "b_rvs = beta.rvs(a=a, b=b, loc=loc, scale=scale, size=100)\n",
    "print(b_rvs)\n"
   ]
  },
  {
   "cell_type": "markdown",
   "metadata": {},
   "source": [
    "Зобразіть гістограму $10000$ випадкових величин з бета розподілу з параметрами $a, b, loc, scale$."
   ]
  },
  {
   "cell_type": "code",
   "execution_count": 80,
   "metadata": {
    "collapsed": false
   },
   "outputs": [],
   "source": [
    "plt.hist(beta.rvs(a=a, b=b, loc=loc, scale=scale, size=10000))\n",
    "plt.show()\n"
   ]
  },
  {
   "cell_type": "markdown",
   "metadata": {},
   "source": [
    "Зобразіть графік функції щільності та нормовану гістограму $100000$ випадкових величин з бета розподілу з параметрами $a, b, loc, scale$. Поексперементуйте з аргументом $bins$ функції `hist`."
   ]
  },
  {
   "cell_type": "code",
   "execution_count": 81,
   "metadata": {
    "collapsed": false,
    "scrolled": true
   },
   "outputs": [],
   "source": [
    "plt.figure(figsize=(20, 5))\n",
    "x = np.arange(0, 1, 0.01)\n",
    "b_rvs = beta.rvs(a=a, b=b, loc=loc, scale=scale, size=10000)\n",
    "plt.subplot(1, 3, 1, title='щільність')\n",
    "plt.plot(x, beta.pdf(x, a=a, b=b, loc=loc, scale=scale))\n",
    "plt.subplot(1, 3, 2, title='bins==30')\n",
    "plt.hist(b_rvs, bins=30, density=True)\n",
    "plt.subplot(1, 3, 3, title='bins==70')\n",
    "plt.hist(b_rvs, bins=70, density=True)\n",
    "plt.show()\n"
   ]
  },
  {
   "cell_type": "markdown",
   "metadata": {},
   "source": [
    "## 3 Різні параметри"
   ]
  },
  {
   "cell_type": "markdown",
   "metadata": {},
   "source": [
    "### 3.1 Рівномірний розподіл"
   ]
  },
  {
   "cell_type": "markdown",
   "metadata": {},
   "source": [
    "Зобразіть графічно функцію щільності, функцію розподілу та нормовану гістограму $100000$ випадкових величин з параметром `bins=50` разом з функцією щільності рівномірного розподілу з параметрами:\n",
    "1. $a = 0, b = 2$\n",
    "2. $a = 0, b = 5$\n",
    "3. $a = 0, b = 10$\n",
    "4. $a = -2, b = 2$\n",
    "5. $a = -5, b = 5$\n",
    "\n",
    "Зробіть шкали на відповідних графіках однаковими для кращого порівняння. Наприклад, усі графіки щільності повинні мати однакові границі як по осі $x$, так і по осі $y$."
   ]
  },
  {
   "cell_type": "code",
   "execution_count": 85,
   "metadata": {
    "collapsed": false,
    "scrolled": false
   },
   "outputs": [],
   "source": [
    "from scipy.stats import uniform\n",
    "\n",
    "a = (0, 0, 0, -2, -5)\n",
    "b = (2, 5, 10, 2, 5)\n",
    "\n",
    "x = np.arange(-2, 10, 0.01)\n",
    "\n",
    "\n",
    "for i in range(len(a)):\n",
    "    plt.figure(figsize=(20, 5))\n",
    "    loc = a[i]\n",
    "    scale = b[i] - loc\n",
    "    # print('loc : {}, scale : {}'.format(loc, scale))\n",
    "    u_rvs = uniform.rvs(loc=loc, scale=scale, size=10000)\n",
    "    plt.subplot(1, 3, 1, title='щільність', xlim=(-3, 11), ylim=(-0.2, 0.7))\n",
    "    plt.plot(x, uniform.pdf(x, loc=loc, scale=scale))\n",
    "    plt.subplot(1, 3, 2, title='розподіл', xlim=(-3, 11), ylim=(-0.2, 1.2))\n",
    "    plt.plot(x, uniform.cdf(x, loc=loc, scale=scale))\n",
    "    plt.subplot(1, 3, 3, title='гістограма', xlim=(-3, 11), ylim=(0, 0.6))\n",
    "    plt.hist(u_rvs, bins=50, density=True)\n",
    "    plt.show()"
   ]
  },
  {
   "cell_type": "markdown",
   "metadata": {},
   "source": [
    "### 3.2 Експоненційний розподіл"
   ]
  },
  {
   "cell_type": "markdown",
   "metadata": {},
   "source": [
    "Зобразіть графічно функцію щільності, функцію розподілу та нормовану гістограму $100000$ випадкових величин з параметром `bins=50` разом з функцією щільності експоненційного розподілу з параметрами:\n",
    "1. $\\lambda = 0.1$\n",
    "2. $\\lambda = 0.2$\n",
    "3. $\\lambda = 0.3$\n",
    "4. $\\lambda = 0.4$\n",
    "5. $\\lambda = 0.5$\n",
    "6. $\\lambda = 0.6$\n",
    "7. $\\lambda = 0.7$\n",
    "8. $\\lambda = 0.8$\n",
    "9. $\\lambda = 0.9$\n",
    "\n",
    "Зробіть шкали на відповідних графіках однаковими для кращого порівняння. Наприклад, усі графіки щільності повинні мати однакові границі як по осі $x$, так і по осі $y$."
   ]
  },
  {
   "cell_type": "code",
   "execution_count": 86,
   "metadata": {
    "collapsed": false,
    "scrolled": false
   },
   "outputs": [],
   "source": [
    "from scipy.stats import expon\n",
    "\n",
    "lamb = [i/10 for i in range(1, 10)]\n",
    "loc = 0\n",
    "\n",
    "x = np.arange(0, 80, 0.01)\n",
    "\n",
    "\n",
    "for i in range(len(lamb)):\n",
    "    plt.figure(figsize=(20, 5))\n",
    "    scale = 1 / lamb[i]\n",
    "    # print('loc : {}, scale : {}'.format(loc, scale))\n",
    "    e_rvs = expon.rvs(loc=loc, scale=scale, size=10000)\n",
    "    plt.subplot(1, 3, 1, title='щільність', xlim=(-3, 80), ylim=(-0.2, 1))\n",
    "    plt.plot(x, expon.pdf(x, loc=loc, scale=scale))\n",
    "    plt.subplot(1, 3, 2, title='розподіл', xlim=(-3, 80), ylim=(-0.2, 1.2))\n",
    "    plt.plot(x, expon.cdf(x, loc=loc, scale=scale))\n",
    "    plt.subplot(1, 3, 3, title='гістограма', xlim=(-5, 90), ylim=(0, 0.4))\n",
    "    plt.hist(e_rvs, bins=50, density=True)\n",
    "    plt.show()\n"
   ]
  },
  {
   "cell_type": "markdown",
   "metadata": {},
   "source": [
    "### 3.3 Нормальний розподіл"
   ]
  },
  {
   "cell_type": "markdown",
   "metadata": {},
   "source": [
    "Зобразіть графічно функцію щільності, функцію розподілу та нормовану гістограму $100000$ випадкових величин з параметром `bins=50` разом з функцією щільності нормального розподілу з параметрами:\n",
    "1. $\\mu = 0, \\sigma = 0.5$\n",
    "2. $\\mu = 0, \\sigma = 2$\n",
    "3. $\\mu = 0, \\sigma = 4$\n",
    "4. $\\mu = 0, \\sigma = 1$\n",
    "5. $\\mu = -2, \\sigma = 1$\n",
    "6. $\\mu = 2, \\sigma = 1$\n",
    "\n",
    "Зробіть шкали на відповідних графіках однаковими для кращого порівняння. Наприклад, усі графіки щільності повинні мати однакові границі як по осі $x$, так і по осі $y$."
   ]
  },
  {
   "cell_type": "code",
   "execution_count": 3,
   "metadata": {
    "collapsed": false,
    "scrolled": false
   },
   "outputs": [],
   "source": [
    "from scipy.stats import norm\n",
    "\n",
    "mu = (0, 0, 0, 0, -2, 2)\n",
    "sig = (0.5, 2, 4, 1, 1, 1)\n",
    "\n",
    "x = np.arange(0, 80, 0.01)\n",
    "\n",
    "\n",
    "for i in range(len(mu)):\n",
    "    plt.figure(figsize=(20, 5))\n",
    "    loc = mu[i]\n",
    "    scale = sig[i]\n",
    "    n_rvs = norm.rvs(loc=loc, scale=scale, size=10000)\n",
    "    plt.subplot(1, 3, 1, title='щільність', xlim=(-15, 15), ylim=(-0.2, 1))\n",
    "    plt.plot(x, norm.pdf(x, loc=loc, scale=scale))\n",
    "    plt.subplot(1, 3, 2, title='розподіл', xlim=(-15, 15), ylim=(-0.2, 1.2))\n",
    "    plt.plot(x, norm.cdf(x, loc=loc, scale=scale))\n",
    "    plt.subplot(1, 3, 3, title='гістограма', xlim=(-15, 15), ylim=(0, 0.9))\n",
    "    plt.hist(n_rvs, bins=50, density=True)\n",
    "    plt.show()\n",
    "\n"
   ]
  },
  {
   "cell_type": "markdown",
   "metadata": {},
   "source": [
    "### 3.4 Гамма розподіл"
   ]
  },
  {
   "cell_type": "markdown",
   "metadata": {},
   "source": [
    "Зобразіть графічно функцію щільності, функцію розподілу та нормовану гістограму $100000$ випадкових величин з параметром `bins=50` разом з функцією щільності гамма розподілу з параметрами:\n",
    "1. $\\alpha = 0.25$\n",
    "2. $\\alpha = 0.5$\n",
    "3. $\\alpha = 0.75$\n",
    "4. $\\alpha = 1$\n",
    "5. $\\alpha = 1.5$\n",
    "6. $\\alpha = 2$\n",
    "7. $\\alpha = 3$\n",
    "8. $\\alpha = 5$\n",
    "9. $\\alpha = 10$\n",
    "\n",
    "Зробіть шкали на відповідних графіках однаковими для кращого порівняння. Наприклад, усі графіки щільності повинні мати однакові границі як по осі $x$, так і по осі $y$."
   ]
  },
  {
   "cell_type": "code",
   "execution_count": 4,
   "metadata": {
    "collapsed": false,
    "scrolled": false
   },
   "outputs": [],
   "source": [
    "from scipy.stats import gamma\n",
    "\n",
    "a = (0.25, 0.5, 0.75, 1, 1.5, 2, 3, 5, 10)\n",
    "x = np.arange(0, 80, 0.01)\n",
    "\n",
    "\n",
    "for i in range(len(a)):\n",
    "    plt.figure(figsize=(20, 5))\n",
    "    loc = 0\n",
    "    scale = 1\n",
    "    g_rvs = gamma.rvs(a=a[i], loc=loc, scale=scale, size=10000)\n",
    "    plt.subplot(1, 3, 1, title='щільність', xlim=(-3, 30), ylim=(-0.2, 5))\n",
    "    plt.plot(x, gamma.pdf(x, a=a[i], loc=loc, scale=scale))\n",
    "    plt.subplot(1, 3, 2, title='розподіл', xlim=(-3, 30), ylim=(-0.2, 1.2))\n",
    "    plt.plot(x, gamma.cdf(x, a=a[i], loc=loc, scale=scale))\n",
    "    plt.subplot(1, 3, 3, title='гістограма', xlim=(-3, 30), ylim=(0, 5.5))\n",
    "    plt.hist(g_rvs, bins=50, density=True) \n",
    "    plt.show()\n"
   ]
  },
  {
   "cell_type": "markdown",
   "metadata": {},
   "source": [
    "### 3.5 Логнормальний розподіл"
   ]
  },
  {
   "cell_type": "markdown",
   "metadata": {},
   "source": [
    "Зобразіть графічно функцію щільності, функцію розподілу та нормовану гістограму $100000$ випадкових величин з параметром `bins=200` разом з функцією щільності логнормального розподілу з такими параметрами відповідного нормального розподілу:\n",
    "1. $\\mu = 0, \\sigma = 0.5$\n",
    "2. $\\mu = 0, \\sigma = 1.5$\n",
    "3. $\\mu = 0, \\sigma = 2$\n",
    "4. $\\mu = 0, \\sigma = 1$\n",
    "5. $\\mu = -1, \\sigma = 1$\n",
    "6. $\\mu = 1, \\sigma = 1$\n",
    "\n",
    "Зробіть шкали на відповідних графіках однаковими для кращого порівняння. Наприклад, усі графіки щільності повинні мати однакові границі як по осі $x$, так і по осі $y$."
   ]
  },
  {
   "cell_type": "code",
   "execution_count": 7,
   "metadata": {
    "collapsed": false,
    "scrolled": false
   },
   "outputs": [],
   "source": [
    "mu = (0, 0, 0, 0, -1, 1)\n",
    "sig = (0.5, 1.5, 2, 1, 1, 1)\n",
    "x = np.arange(0, 80, 0.01)\n",
    "\n",
    "\n",
    "for i in range(len(mu)):\n",
    "    plt.figure(figsize=(20, 5))\n",
    "    s = sig[i]\n",
    "    loc = 0\n",
    "    scale = np.exp(mu[i])\n",
    "    ln_rvs = lognorm.rvs(s=s, loc=loc, scale=scale, size=10000)\n",
    "    plt.subplot(1, 3, 1, title='щільність', xlim=(-2, 40), ylim=(-0.2, 1))\n",
    "    plt.plot(x, lognorm.pdf(x, s=s, loc=loc, scale=scale))\n",
    "    plt.subplot(1, 3, 2, title='розподіл', xlim=(-2, 40), ylim=(-0.2, 1.2))\n",
    "    plt.plot(x, lognorm.cdf(x, s=s, loc=loc, scale=scale))\n",
    "    plt.subplot(1, 3, 3, title='гістограма')\n",
    "    plt.hist(ln_rvs, bins=200, density=True)\n",
    "    plt.show()"
   ]
  },
  {
   "cell_type": "markdown",
   "metadata": {},
   "source": [
    "### 3.6 Бета розподіл"
   ]
  },
  {
   "cell_type": "markdown",
   "metadata": {},
   "source": [
    "Зобразіть графічно функцію щільності, функцію розподілу та нормовану гістограму $100000$ випадкових величин з параметром `bins=50` разом з функцією щільності бета розподілу з параметрами:\n",
    "1. $\\alpha = 0.5, \\beta = 2$\n",
    "2. $\\alpha = 0.5, \\beta = 1.5$\n",
    "3. $\\alpha = 0.5, \\beta = 0.5$\n",
    "4. $\\alpha = 0.5, \\beta = 1$\n",
    "5. $\\alpha = 1, \\beta = 1$\n",
    "6. $\\alpha = 1, \\beta = 0.5$\n",
    "7. $\\alpha = 1, \\beta = 1.5$\n",
    "8. $\\alpha = 1, \\beta = 2$\n",
    "9. $\\alpha = 2, \\beta = 2$\n",
    "10. $\\alpha = 2, \\beta = 5$\n",
    "11. $\\alpha = 5, \\beta = 2$\n",
    "12. $\\alpha = 10, \\beta = 10$\n",
    "\n",
    "Зробіть шкали на відповідних графіках однаковими для кращого порівняння. Наприклад, усі графіки щільності повинні мати однакові границі як по осі $x$, так і по осі $y$."
   ]
  },
  {
   "cell_type": "code",
   "execution_count": 9,
   "metadata": {
    "collapsed": false,
    "scrolled": false
   },
   "outputs": [],
   "source": [
    "from scipy.stats import beta\n",
    "a = (0.5, 0.5, 0.5, 0.5, 1, 1, 1, 1, 2, 2, 5, 10)\n",
    "b = (2, 1.5, 0.5, 1, 1, 0.5, 1.5, 2, 2, 5, 2, 10)\n",
    "x = np.arange(0, 80, 0.01)\n",
    "\n",
    "\n",
    "for i in range(len(a)):\n",
    "    plt.figure(figsize=(20, 5))\n",
    "    loc = 0\n",
    "    scale = 1\n",
    "    b_rvs = beta.rvs(a=a[i], b=b[i], loc=loc, scale=scale, size=10000)\n",
    "    plt.subplot(1, 3, 1, title='щільність', xlim=(0, 1), ylim=(-0.2, 5))\n",
    "    plt.plot(x, beta.pdf(x, a=a[i], b=b[i], loc=loc, scale=scale))\n",
    "    plt.subplot(1, 3, 2, title='розподіл', xlim=(0, 1), ylim=(-0.2, 1.2))\n",
    "    plt.plot(x, beta.cdf(x, a=a[i], b=b[i], loc=loc, scale=scale))\n",
    "    plt.subplot(1, 3, 3, title='гістограма')\n",
    "    plt.hist(b_rvs, bins=50, density=True)\n",
    "    plt.show()\n",
    "\n"
   ]
  },
  {
   "cell_type": "markdown",
   "metadata": {
    "collapsed": true
   },
   "source": [
    "## 4 Апроксимація біноміального розподілу нормальним розподілом"
   ]
  },
  {
   "cell_type": "markdown",
   "metadata": {},
   "source": [
    "Покажіть схожість біноміального розподілу та нормального розподілу з відповідними параметрами:\n",
    "- $n = 100, p = 0.05$\n",
    "- $n = 100, p = 0.1$\n",
    "- $n = 100, p = 0.15$\n",
    "- $n = 100, p = 0.2$\n",
    "- $n = 100, p = 0.35$\n",
    "- $n = 100, p = 0.5$\n",
    "- $n = 100, p = 0.75$\n",
    "\n",
    "Зобразіть графіки їх функцій щільності (обидві функції на одному графіку) та функцій розподілу (обидві функції на другому графіку) на двох сабплотах в одному рядку.\n",
    "\n",
    "**Зауваження.** Математичне сподівання та дисперсія відповідного нормального розподілу збігається з математичним сподіванням та дисперсією біноміального розподілу."
   ]
  },
  {
   "cell_type": "code",
   "execution_count": 10,
   "metadata": {
    "collapsed": false,
    "scrolled": false
   },
   "outputs": [],
   "source": [
    "from scipy.stats import binom\n",
    "\n",
    "n = 100\n",
    "p = (0.05, 0.1, 0.15, 0.2, 0.35, 0.5 ,0.75)\n",
    "loc = 0\n",
    "scale = 1\n",
    "x = np.arange(0, 80, 0.01)\n",
    "\n",
    "for i in range(len(p)):\n",
    "    plt.figure(figsize=(20, 5))\n",
    "    plt.subplot(2, 2, 1, title='біном щільність', xlim=(0, 30))\n",
    "    plt.plot(x, binom.pmf(x, n, p[i]))\n",
    "    plt.subplot(2, 2, 2, title='нормальн щільність', xlim=(0, 10))\n",
    "    plt.plot(x, norm.pdf(x, loc=loc, scale=scale))\n",
    "    plt.subplot(2, 2, 3, title='біном розподіл', xlim=(0, 30))\n",
    "    plt.plot(x, binom.cdf(x, n, p[i]))\n",
    "    plt.subplot(2, 2, 4, title='норм розподіл', xlim=(0, 10))\n",
    "    plt.plot(x, norm.cdf(x, loc=loc, scale=scale))\n",
    "    plt.show()\n"
   ]
  },
  {
   "cell_type": "markdown",
   "metadata": {
    "collapsed": true
   },
   "source": [
    "## 5 Апроксимація числа $\\pi$"
   ]
  },
  {
   "cell_type": "markdown",
   "metadata": {},
   "source": [
    "Розглянемо квадрат зі стороною $2a$. Нехай коло радіуса $a$ вписане в цей квадрат. Якщо вибрати точку рівномірно з цього квадрата, то ймовірність, що ця точка також належить і вписаному колу, дорівнює відношенню площ кола та квадрата, тобто $\\pi a^2/(2a)^2 = \\pi/4$.\n",
    "\n",
    "Реалізуйте функцію емпіричної апроксимації числа $\\pi$ за $n$ симуляцій (вибору $n$ випадкових точок з квадрата). Зобразіть графічно отримані елементи: квадрат, коло, випадкові точки. Виділіть точки, що належать колу, окремим кольором від інших точок.\n",
    "\n",
    "Нехай $a = 1$. Виведіть результат функції для:\n",
    "1. $n = 10$\n",
    "2. $n = 100$\n",
    "3. $n = 500$\n",
    "4. $n = 1000$\n",
    "5. $n = 2000$"
   ]
  },
  {
   "cell_type": "code",
   "execution_count": null,
   "metadata": {
    "collapsed": false,
    "scrolled": false
   },
   "outputs": [
    {
     "ename": "NameError",
     "evalue": "name 'uniform' is not defined",
     "traceback": [
      "\u001b[0;31m---------------------------------------------------------------------------\u001b[0m",
      "\u001b[0;31mNameError\u001b[0m                                 Traceback (most recent call last)",
      "\u001b[0;32m<ipython-input-11-3c133d909d42>\u001b[0m in \u001b[0;36m<module>\u001b[0;34m()\u001b[0m\n\u001b[1;32m     13\u001b[0m     \u001b[0mplt\u001b[0m\u001b[0;34m.\u001b[0m\u001b[0mplot\u001b[0m\u001b[0;34m(\u001b[0m\u001b[0mx\u001b[0m\u001b[0;34m,\u001b[0m \u001b[0;36m1\u001b[0m \u001b[0;34m-\u001b[0m \u001b[0mnp\u001b[0m\u001b[0;34m.\u001b[0m\u001b[0msqrt\u001b[0m\u001b[0;34m(\u001b[0m\u001b[0ma\u001b[0m\u001b[0;34m**\u001b[0m\u001b[0;36m2\u001b[0m \u001b[0;34m-\u001b[0m \u001b[0;34m(\u001b[0m\u001b[0mx\u001b[0m\u001b[0;34m-\u001b[0m\u001b[0;36m1\u001b[0m\u001b[0;34m)\u001b[0m\u001b[0;34m**\u001b[0m\u001b[0;36m2\u001b[0m\u001b[0;34m)\u001b[0m\u001b[0;34m,\u001b[0m \u001b[0;34m'b-'\u001b[0m\u001b[0;34m)\u001b[0m\u001b[0;34m\u001b[0m\u001b[0m\n\u001b[1;32m     14\u001b[0m     \u001b[0;32mfor\u001b[0m \u001b[0mj\u001b[0m \u001b[0;32min\u001b[0m \u001b[0mrange\u001b[0m\u001b[0;34m(\u001b[0m\u001b[0mi\u001b[0m\u001b[0;34m)\u001b[0m\u001b[0;34m:\u001b[0m\u001b[0;34m\u001b[0m\u001b[0m\n\u001b[0;32m---> 15\u001b[0;31m         \u001b[0mtmp\u001b[0m \u001b[0;34m=\u001b[0m \u001b[0muniform\u001b[0m\u001b[0;34m.\u001b[0m\u001b[0mrvs\u001b[0m\u001b[0;34m(\u001b[0m\u001b[0mloc\u001b[0m\u001b[0;34m=\u001b[0m\u001b[0mloc\u001b[0m\u001b[0;34m,\u001b[0m \u001b[0mscale\u001b[0m\u001b[0;34m=\u001b[0m\u001b[0mscale\u001b[0m\u001b[0;34m,\u001b[0m \u001b[0msize\u001b[0m\u001b[0;34m=\u001b[0m\u001b[0;36m2\u001b[0m\u001b[0;34m)\u001b[0m\u001b[0;34m\u001b[0m\u001b[0m\n\u001b[0m\u001b[1;32m     16\u001b[0m         \u001b[0;32mif\u001b[0m \u001b[0;34m(\u001b[0m\u001b[0mtmp\u001b[0m\u001b[0;34m[\u001b[0m\u001b[0;36m0\u001b[0m\u001b[0;34m]\u001b[0m \u001b[0;34m-\u001b[0m \u001b[0;36m1\u001b[0m\u001b[0;34m)\u001b[0m \u001b[0;34m**\u001b[0m \u001b[0;36m2\u001b[0m \u001b[0;34m+\u001b[0m \u001b[0;34m(\u001b[0m\u001b[0mtmp\u001b[0m\u001b[0;34m[\u001b[0m\u001b[0;36m1\u001b[0m\u001b[0;34m]\u001b[0m \u001b[0;34m-\u001b[0m \u001b[0;36m1\u001b[0m\u001b[0;34m)\u001b[0m \u001b[0;34m**\u001b[0m \u001b[0;36m2\u001b[0m \u001b[0;34m<=\u001b[0m \u001b[0ma\u001b[0m \u001b[0;34m**\u001b[0m \u001b[0;36m2\u001b[0m\u001b[0;34m:\u001b[0m\u001b[0;34m\u001b[0m\u001b[0m\n\u001b[1;32m     17\u001b[0m             \u001b[0mc_circle\u001b[0m \u001b[0;34m+=\u001b[0m \u001b[0;36m1\u001b[0m\u001b[0;34m\u001b[0m\u001b[0m\n",
      "\u001b[0;31mNameError\u001b[0m: name 'uniform' is not defined"
     ],
     "output_type": "error"
    }
   ],
   "source": [
    "from scipy.stats import uniform\n",
    "n = (10, 100, 500, 1000, 2000)\n",
    "a = 1\n",
    "loc = 0\n",
    "scale = 2 * a\n",
    "x = np.arange(0, 2*a, 0.001)\n",
    "\n",
    "for i in n:\n",
    "    c_circle = 0\n",
    "    c_square = 0\n",
    "    plt.figure(figsize=(20, 20))\n",
    "    plt.subplot(1, 1, 1, xlim=(0, 2*a), ylim=(0, 2*a))\n",
    "    plt.plot(x, 1 + np.sqrt(a**2 - (x-1)**2), 'b-')\n",
    "    plt.plot(x, 1 - np.sqrt(a**2 - (x-1)**2), 'b-')\n",
    "    for j in range(i):\n",
    "        tmp = uniform.rvs(loc=loc, scale=scale, size=2)\n",
    "        if (tmp[0] - 1) ** 2 + (tmp[1] - 1) ** 2 <= a ** 2:\n",
    "            c_circle += 1\n",
    "            c_square += 1\n",
    "            plt.plot([tmp[0], ], [tmp[1], ], 'ro')\n",
    "        else:\n",
    "            c_square += 1\n",
    "            plt.plot([tmp[0], ], [tmp[1], ], 'ko')\n",
    "    plt.show()\n",
    "\n"
   ]
  },
  {
   "cell_type": "code",
   "execution_count": null,
   "metadata": {},
   "outputs": [],
   "source": []
  }
 ],
 "metadata": {
  "kernelspec": {
   "display_name": "Python 3",
   "language": "python",
   "name": "python3"
  },
  "language_info": {
   "codemirror_mode": {
    "name": "ipython",
    "version": 3
   },
   "file_extension": ".py",
   "mimetype": "text/x-python",
   "name": "python",
   "nbconvert_exporter": "python",
   "pygments_lexer": "ipython3",
   "version": "3.6.1"
  }
 },
 "nbformat": 4,
 "nbformat_minor": 0
}
