{
 "cells": [
  {
   "cell_type": "markdown",
   "metadata": {},
   "source": [
    "# Домашня робота №3\n",
    "Будемо використовувати *Збірник задач з теорії ймовірностей та математичної статистики: навч. посібник / В.В. Голомозий, М.В. Карташов, К.В. Ральченко. – К.: Видавничо-поліграфічний центр «Київський університет», 2015. – 366 с.*\n",
    "Електронну версію збірника можна знайти [тут](http://probability.univ.kiev.ua/userfiles/kmv/gkr-problems.pdf)."
   ]
  },
  {
   "cell_type": "markdown",
   "metadata": {},
   "source": [
    "## 1 Задача 1.3.12\n",
    "Знайти ймовiрнiсть того, що серед трьох цифр, кожна з яких вибрана навмання, буде лише 1, 2, 3 рiзних.\n",
    "\n",
    "Обчисліть теоретичну (повним перебором) та еміричну (симулюванням $100000$ експериментів) імовірності."
   ]
  },
  {
   "cell_type": "code",
   "execution_count": 2,
   "metadata": {
    "collapsed": true
   },
   "outputs": [
    {
     "name": "stdout",
     "output_type": "stream",
     "text": [
      "0.72\n"
     ]
    },
    {
     "name": "stdout",
     "output_type": "stream",
     "text": [
      "0.69239\n"
     ]
    }
   ],
   "source": [
    "import random\n",
    "\n",
    "\n",
    "def theoretical(n):\n",
    "    if n == 3:\n",
    "        return (10*9*8)/(10**3)\n",
    "    elif n == 2:\n",
    "        return (10*9*2)/(10**3)\n",
    "    elif n == 1:\n",
    "        return (10*1*1)/(10**3)\n",
    "\n",
    "\n",
    "def practical(n, k):\n",
    "    succ = 0\n",
    "    nums = [i+1 for i in range(9)]\n",
    "    for i in range(k):\n",
    "        buff = [random.choice(nums) for _ in range(3)]\n",
    "        \n",
    "        if len(list(set(buff))) == n:\n",
    "            succ += 1\n",
    "#             print(buff)\n",
    "    return succ/k\n",
    "            \n",
    "\n",
    "if __name__ == '__main__':\n",
    "    print(theoretical(3))\n",
    "    print(practical(3, 10**5))"
   ]
  },
  {
   "cell_type": "markdown",
   "metadata": {},
   "source": [
    "# 2 Задача 1.3.14\n",
    "З послiдовностi чисел $1, 2, . . . , n$ вибирають навмання $k$ рiзних чисел.\n",
    "Яка ймовiрнiсть того, що:\n",
    "1. кожне з вибраних чисел кратне даному числу $p$;\n",
    "2. кожне з вибраних чисел кратне хоча б одному з двох взаємно простих чисел $p$ i $q$;\n",
    "3. серед вибраних чисел є хоча б одне кратне $p$?\n",
    "\n",
    "Напишіть  відповідні функції для обрахунку теоретичної (повним перебором) та еміричної (симулюванням $100000$ експериментів) імовірностей в залежності від параметрів $n, k, p, q$.\n",
    "Виведіть результат для\n",
    "- $n = 25, k = 5, p = 3, q = 4$;\n",
    "- $n = 25, k = 10, p = 3, q = 4$."
   ]
  },
  {
   "cell_type": "code",
   "execution_count": 5,
   "metadata": {
    "collapsed": true
   },
   "outputs": [
    {
     "name": "stdout",
     "output_type": "stream",
     "text": [
      "[0.00333, 0.02568, 0.85467]\n"
     ]
    }
   ],
   "source": [
    "import random\n",
    "import math\n",
    "\n",
    "\n",
    "def practical(n, k, p, q, exp):\n",
    "    nums = [i+1 for i in range(n)]\n",
    "    # print(nums)\n",
    "    succ = [0, 0, 0]\n",
    "    for i in range(exp):\n",
    "        buff = random.choices(nums, k=k) # не працює у юпітері оскільки тут стара версія пайтону\n",
    "        # print(buff)\n",
    "        status = [1, 1, 0]\n",
    "        for j in buff:\n",
    "            if j % p != 0:\n",
    "                status[0] = 0\n",
    "            if j % p != 0 and j % q != 0:\n",
    "                status[1] = 0\n",
    "            if j % p == 0:\n",
    "                status[2] = 1\n",
    "        # print(status)\n",
    "        succ[0] += status[0]\n",
    "        succ[1] += status[1]\n",
    "        succ[2] += status[2]\n",
    "    succ[0] /= exp\n",
    "    succ[1] /= exp\n",
    "    succ[2] /= exp\n",
    "    print(succ)\n",
    "\n",
    "\n",
    "def theoretical(n, k, p, q):\n",
    "    nums = [i + 1 for i in range(n)]\n",
    "    stats = [0, 0, 0]\n",
    "    status = [1, 1, 1]\n",
    "    for i in nums:\n",
    "        if i % p == 0:\n",
    "            stats[0] += 1\n",
    "            stats[2] += 1\n",
    "        if i % p == 0 or i % q == 0:\n",
    "            stats[1] += 1\n",
    "    for j in range(k):\n",
    "        status[0] *= (stats[0] - j)/(n - j)\n",
    "        status[1] *= (stats[1] - j)/(n - j)\n",
    "    print(status)\n",
    "\n",
    "\n",
    "if __name__ == '__main__':\n",
    "    practical(25, 5, 3, 4, 10**5)"
   ]
  },
  {
   "cell_type": "markdown",
   "metadata": {},
   "source": [
    "# 3 Задача 1.4.6\n",
    "В коморi знаходяться $n$ пар черевикiв.\n",
    "З них випадковим чином вибираються $2k$ черевикiв.\n",
    "Яка ймовiрнiсть того, що серед вибраних черевикiв:\n",
    "1. вiдсутнi парнi;\n",
    "2. є рiвно одна комплектна пара;\n",
    "3. є двi комплектнi пари?\n",
    "\n",
    "Напишіть  відповідні функції для обрахунку теоретичної (повним перебором) та еміричної (симулюванням $100000$ експериментів) імовірностей в залежності від параметрів $n, k$.\n",
    "Виведіть результат для\n",
    "- $n = 8, k = 4$;\n",
    "- $n = 13, k = 5$."
   ]
  },
  {
   "cell_type": "code",
   "execution_count": 30,
   "metadata": {
    "collapsed": true
   },
   "outputs": [
    {
     "name": "stdout",
     "output_type": "stream",
     "text": [
      "['a1', 'b1', 'a2', 'b2', 'a3', 'b3', 'a4', 'b4', 'a5', 'b5', 'a6', 'b6', 'a7', 'b7', 'a8', 'b8', 'a9', 'b9', 'a10', 'b10']\n['b2', 'b6', 'a2', 'a9', 'b5', 'a6', 'b3', 'a5']\n['a2', 'b7', 'a1', 'b5', 'a10', 'a3', 'b3', 'b6']\n['a2', 'a8', 'b6', 'a9', 'b7', 'b3', 'a7', 'b8']\n['b9', 'b8', 'a7', 'b7', 'a3', 'b2', 'b1', 'b4']\n['b9', 'b2', 'a2', 'a5', 'b6', 'a9', 'b1', 'a8']\n0.0\n-------------------------\n['a1', 'b1', 'a2', 'b2', 'a3', 'b3', 'a4', 'b4', 'a5', 'b5', 'a6', 'b6', 'a7', 'b7', 'a8', 'b8', 'a9', 'b9', 'a10', 'b10']\n['b1', 'a4', 'a10', 'a1', 'b9', 'b4', 'a3', 'a9']\n['b9', 'a4', 'a6', 'b7', 'b8', 'a7', 'a8', 'b3']\n['a10', 'b8', 'b1', 'a2', 'b9', 'b6', 'b7', 'b5']\n['b3', 'a3', 'a6', 'a2', 'a4', 'b8', 'a8', 'b4']\n['b7', 'a10', 'b8', 'a1', 'b2', 'a7', 'a4', 'b9']\n0.2\n-------------------------\n['a1', 'b1', 'a2', 'b2', 'a3', 'b3', 'a4', 'b4', 'a5', 'b5', 'a6', 'b6', 'a7', 'b7', 'a8', 'b8', 'a9', 'b9', 'a10', 'b10']\n['b8', 'b9', 'b10', 'b5', 'b6', 'a7', 'b3', 'a10']\n['b6', 'b4', 'b8', 'a3', 'a1', 'a8', 'a2', 'b2']\n['b6', 'a4', 'a9', 'b5', 'a5', 'b8', 'a7', 'b9']\n['a9', 'a3', 'b9', 'a4', 'b8', 'b3', 'b1', 'a1']\n['b8', 'b6', 'a7', 'b1', 'b4', 'a5', 'a8', 'b3']\n0.4\n"
     ]
    }
   ],
   "source": [
    "import random\n",
    "import math\n",
    "from copy import deepcopy\n",
    "\n",
    "\n",
    "def choose_2k(k, l):\n",
    "    l1 = deepcopy(l)\n",
    "    res = []\n",
    "    for i in range(2*k):\n",
    "        elem = random.choice(l1)\n",
    "        l1.remove(elem)\n",
    "        res.append(elem)\n",
    "    return res\n",
    "\n",
    "\n",
    "def practical_1(n, k, exp):\n",
    "    shoes = []\n",
    "    for i in range(n):\n",
    "        shoes += ['a'+str(i+1), 'b'+str(i+1)]\n",
    "    print(shoes)\n",
    "    succ1 = 0\n",
    "    for _ in range(exp):\n",
    "        buff = choose_2k(k, shoes)\n",
    "        print(buff)\n",
    "        succ1 += 1\n",
    "        for j in buff:\n",
    "            if j[0] == 'a':\n",
    "                rep = 'b' + j[1:]\n",
    "            else:\n",
    "                rep = 'a' + j[1:]\n",
    "            if rep in buff:\n",
    "                succ1 -= 1\n",
    "                break\n",
    "    print(succ1/exp)\n",
    "    \n",
    "\n",
    "def practical_2(n, k, exp):\n",
    "    shoes = []\n",
    "    for i in range(n):\n",
    "        shoes += ['a'+str(i+1), 'b'+str(i+1)]\n",
    "    print(shoes)\n",
    "    succ = 0\n",
    "    for _ in range(exp):\n",
    "        succ1 = 0\n",
    "        buff = choose_2k(k, shoes)\n",
    "        print(buff)\n",
    "        for j in buff:\n",
    "            if j[0] == 'a':\n",
    "                rep = 'b' + j[1:]\n",
    "            else:\n",
    "                rep = 'a' + j[1:]\n",
    "            if rep in buff:\n",
    "                succ1 += 1\n",
    "        if succ1 == 2:\n",
    "            succ += 1\n",
    "    print(succ/exp)\n",
    "\n",
    "\n",
    "def practical_3(n, k, exp):\n",
    "    shoes = []\n",
    "    for i in range(n):\n",
    "        shoes += ['a'+str(i+1), 'b'+str(i+1)]\n",
    "    print(shoes)\n",
    "    succ = 0\n",
    "    for _ in range(exp):\n",
    "        succ1 = 0\n",
    "        buff = choose_2k(k, shoes)\n",
    "        print(buff)\n",
    "        for j in buff:\n",
    "            if j[0] == 'a':\n",
    "                rep = 'b' + j[1:]\n",
    "            else:\n",
    "                rep = 'a' + j[1:]\n",
    "            if rep in buff:\n",
    "                succ1 += 1\n",
    "        if succ1 == 4:\n",
    "            succ += 1\n",
    "    print(succ/exp)\n",
    "    \n",
    "\n",
    "practical_1(10, 4, 5)\n",
    "print('-------------------------')\n",
    "practical_2(10, 4, 5)\n",
    "print('-------------------------')\n",
    "practical_3(10, 4, 5)\n",
    "\n"
   ]
  },
  {
   "cell_type": "markdown",
   "metadata": {},
   "source": [
    "# 4 Задача 1.2.15\n",
    "Нехай $\\Omega = {1, 2, \\ldots, 2n}$.\n",
    "Всiм числам приписанi ймовiрностi, пропорцiйнi логарифмам цих чисел.\n",
    "Знайти цi ймовiрностi.\n",
    "Знайти ймовiрнiсть того, що в результатi експерименту з’явиться:\n",
    "1. парне число;\n",
    "2. непарне число.\n",
    "\n",
    "Напишіть функцію для обрахунку еміричної (симулюванням $100000$ експериментів) імовірності в залежності від параметра $n$.\n",
    "Виведіть результат для\n",
    "- $n = 10$;\n",
    "- $n = 25$."
   ]
  },
  {
   "cell_type": "code",
   "execution_count": 4,
   "metadata": {
    "collapsed": true
   },
   "outputs": [],
   "source": [
    "# Місце для Вашого коду\n",
    "\n"
   ]
  }
 ],
 "metadata": {
  "kernelspec": {
   "display_name": "Python 3",
   "language": "python",
   "name": "python3"
  },
  "language_info": {
   "codemirror_mode": {
    "name": "ipython",
    "version": 3
   },
   "file_extension": ".py",
   "mimetype": "text/x-python",
   "name": "python",
   "nbconvert_exporter": "python",
   "pygments_lexer": "ipython3",
   "version": "3.6.1"
  }
 },
 "nbformat": 4,
 "nbformat_minor": 0
}
